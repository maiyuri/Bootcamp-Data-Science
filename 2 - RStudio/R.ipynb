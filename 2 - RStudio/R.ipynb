{
  "nbformat": 4,
  "nbformat_minor": 0,
  "metadata": {
    "colab": {
      "name": "R.ipynb",
      "provenance": [],
      "private_outputs": true,
      "collapsed_sections": [
        "vYRvflWcWU8J",
        "41xNxB-JYAnV",
        "sgh3RFKPeBPn",
        "c_Iqw2xReF1u",
        "n8TIoPnPeJjE",
        "XetrEJJkeLjF",
        "8op-YAf1ePFM",
        "QgwXx2zzeQy7",
        "ECt_u_unfQLR"
      ]
    },
    "kernelspec": {
      "name": "ir",
      "display_name": "R"
    },
    "accelerator": "GPU"
  },
  "cells": [
    {
      "cell_type": "markdown",
      "metadata": {
        "id": "nbcE9wrBMMnI"
      },
      "source": [
        "# R\n",
        "R é um software estatístico/linguagem de programação muito utilizado no campo acadêmico. Domina-lo é requisito essencial para Cientistas de Dados e carreiras adjuntas a esta pois através dele podemos manipular dados, visualiza-los e ainda construir modelos preditivos(I.A), além de poder ainda construir diversas aplicações com o R Markdown(sites, livros online, formulários…).\n",
        "\n",
        "---\n",
        "\n",
        "Vantagens R:\n",
        "+ Open-Source: gratuito e com comunidade cada vez maior e mais ativa;\n",
        "+ Com uma grande comunidade por conta do fenômeno Open Source, surgem milhares de bibliotecas gratuitas para uso;\n",
        "+ Multi-plataforma: Windows, Mac, Linux…\n",
        "+ Já falamos que é requisito para a “profissão mais sexy do século” ?<br>\n",
        "\n",
        "![Ranking das Linguagens de Programação e suas aplicações do IEE SPECTRUM\n",
        "](https://secureservercdn.net/198.71.233.197/o9y.9a5.myftpupload.com/wp-content/uploads/ranking-linguagens.png)<br>\n",
        "Ranking das Linguagens de Programação e suas aplicações do IEE SPECTRUM 2018\n",
        "\n",
        "\n"
      ]
    },
    {
      "cell_type": "markdown",
      "metadata": {
        "id": "6YXwISfaM-E-"
      },
      "source": [
        "## Ambiente de Desenvolvimento\n",
        "+ RSTUDIO: https://www.rstudio.com/products/rstudio/download/\n",
        "+ R: https://cloud.r-project.org/\n",
        "+ Anaconda: https://www.anaconda.com/distribution/\n",
        "\n",
        "---\n",
        "\n",
        "Para aumento de produtividade, indicamos o uso das 4 telas no R STUDIO, acessando: <b>View > Panes > Show All Panes</b>\n",
        "![alt text](https://secureservercdn.net/198.71.233.197/o9y.9a5.myftpupload.com/wp-content/uploads/tela-rstudio2-1024x432.png)\n",
        "\n",
        "---\n",
        "\n",
        "Para execução de R no google colab, acesse: https://colab.research.google.com/notebook#create=true&language=r\n",
        "\n",
        "Para maiores informações acesse https://blog.qoda.com.br/r-em-1-semana-parte-1-de-7/\n"
      ]
    },
    {
      "cell_type": "code",
      "metadata": {
        "id": "eG9SX4XZLWu3"
      },
      "source": [
        "x = 3\n",
        "x"
      ],
      "execution_count": null,
      "outputs": []
    },
    {
      "cell_type": "markdown",
      "metadata": {
        "id": "TomNIdASOWNs"
      },
      "source": [
        "## Conceitos básicos\n",
        "<b>Declarando variáveis, comentando código e printando na tela:</b>\n",
        "\n",
        "+ Declare variáveis com = ou <-\n",
        "+ Utilize # para comentar linhas\n",
        "+ Utilize print() para executar na tela\n",
        "+ Utilize readline(prompt=”…”) para receber texto(inputs)"
      ]
    },
    {
      "cell_type": "code",
      "metadata": {
        "id": "K-rc4OqfOfa1"
      },
      "source": [
        "x = \"Hello Qoda!\"\n",
        "y <- \"Hello Qoda!\"\n",
        "z = readline(\"Qual é o seu nome?\")"
      ],
      "execution_count": null,
      "outputs": []
    },
    {
      "cell_type": "code",
      "metadata": {
        "id": "hHIv2Nh3OyaU"
      },
      "source": [
        "# Print na tela seu primeiro programa em R!\n",
        "print(x) #retorna Hello Qoda!\n",
        "print(y) #retorna Hello Qoda!\n",
        "# z solicitará ao usuário o seu nome e ao preencher armazenará na variável \"z\"."
      ],
      "execution_count": null,
      "outputs": []
    },
    {
      "cell_type": "code",
      "metadata": {
        "id": "0_UFL1fCO2DQ"
      },
      "source": [
        "z"
      ],
      "execution_count": null,
      "outputs": []
    },
    {
      "cell_type": "markdown",
      "metadata": {
        "id": "1Vr9VpIuO7dA"
      },
      "source": [
        "## Dados e Operadores\n",
        "3.1 Tipos de Dados(básicos)\n",
        "\n",
        "+ Character(“Texto”)\n",
        "Neste tipo inserimos caracteres, podendo ser números, textos, símbolos…;\n",
        "+ Integer (1L)\n",
        "Integer se refere a números inteiros e utilizamos o “L” para determina-lo, diferente do Numeric, onde os números são decimais: 1.0 e não 1;\n",
        "+ Numeric (7.25)\n",
        "Números decimais, mesmo que declarando-os como 12, o sistema retornará 12.0, por exemplo.\n",
        "+ Logical (T/F ou TRUE/FALSE)\n",
        "Tipo de dado com retorno TRUE ou FALSE, assim como T ou F. TRUE quando atendidas as condições e FALSE quando não atendidas. Nos aprofundaremos logo logo neste tipo de dado: tenha paciência."
      ]
    },
    {
      "cell_type": "code",
      "metadata": {
        "id": "-I6YS4osQFq7"
      },
      "source": [
        "caract = \"Texto caractere\"\n",
        "class(caract) "
      ],
      "execution_count": null,
      "outputs": []
    },
    {
      "cell_type": "code",
      "metadata": {
        "id": "Cx3GsunWQJxD"
      },
      "source": [
        "inteiro = 15L\n",
        "class(inteiro) "
      ],
      "execution_count": null,
      "outputs": []
    },
    {
      "cell_type": "code",
      "metadata": {
        "id": "py6thh4OQKVb"
      },
      "source": [
        "num = 15\n",
        "class(num)"
      ],
      "execution_count": null,
      "outputs": []
    },
    {
      "cell_type": "code",
      "metadata": {
        "id": "JNdCBn_WQOA0"
      },
      "source": [
        "logic = TRUE\n",
        "class(logic)"
      ],
      "execution_count": null,
      "outputs": []
    },
    {
      "cell_type": "markdown",
      "metadata": {
        "id": "q_qkdRj9QVcv"
      },
      "source": [
        "## Operadores\n",
        "\n",
        "\n",
        ">OPERADOR | OPERAÇÃO\n",
        ">--- | ---\n",
        ">+ | Adição\n",
        ">- | Subtração\n",
        ">* | Multiplicação\n",
        ">/ | Divisão\n",
        ">^ ou ** | Exponenciação\n",
        ">%% | Módulo\n",
        ">%/% | Divisão inteiros"
      ]
    },
    {
      "cell_type": "code",
      "metadata": {
        "id": "V7_tWK62Qa2B"
      },
      "source": [
        "100+100"
      ],
      "execution_count": null,
      "outputs": []
    },
    {
      "cell_type": "code",
      "metadata": {
        "id": "SaZ0tkexQdif"
      },
      "source": [
        "100-10"
      ],
      "execution_count": null,
      "outputs": []
    },
    {
      "cell_type": "code",
      "metadata": {
        "id": "iCvLQClAQfBZ"
      },
      "source": [
        "100*2"
      ],
      "execution_count": null,
      "outputs": []
    },
    {
      "cell_type": "code",
      "metadata": {
        "id": "SmXIvV49QgAf"
      },
      "source": [
        "3^2"
      ],
      "execution_count": null,
      "outputs": []
    },
    {
      "cell_type": "code",
      "metadata": {
        "id": "nLSdRPB0QjM7"
      },
      "source": [
        "10%%3 #retorna sobra da divisão"
      ],
      "execution_count": null,
      "outputs": []
    },
    {
      "cell_type": "code",
      "metadata": {
        "id": "Pq22rEqXQr6_"
      },
      "source": [
        "10%/%3 # retorna parte inteira da divisão"
      ],
      "execution_count": null,
      "outputs": []
    },
    {
      "cell_type": "markdown",
      "metadata": {
        "id": "xN2-t6WkRYst"
      },
      "source": [
        "## Estruturas de dados "
      ]
    },
    {
      "cell_type": "markdown",
      "metadata": {
        "id": "umLd7DwMR2Ke"
      },
      "source": [
        "### Vetor"
      ]
    },
    {
      "cell_type": "code",
      "metadata": {
        "id": "AsppFnLFR3m2"
      },
      "source": [
        "vec = 3\n",
        "is.vector(vec) #Retorna TRUE"
      ],
      "execution_count": null,
      "outputs": []
    },
    {
      "cell_type": "code",
      "metadata": {
        "id": "VRcNM-W_R700"
      },
      "source": [
        "# Para adicionar diversos elementos em 1 vetor, use c()\n",
        "vec = c(1,2,3,\"texto\")\n",
        "class(vec) #retorna character pois todos elementos serão do mesmo tipo"
      ],
      "execution_count": null,
      "outputs": []
    },
    {
      "cell_type": "markdown",
      "metadata": {
        "id": "SOk55dcpR_Pa"
      },
      "source": [
        "### Lista (elementos de tipos diferentes)\n"
      ]
    },
    {
      "cell_type": "code",
      "metadata": {
        "id": "3RiQx87wSJoi"
      },
      "source": [
        "x = c(\"texto1\",\"texto2\")\n",
        "y =  c(1,2,3)\n",
        "z = c(T,F,T)\n",
        "lista = c(x,y,z) \n",
        "lista"
      ],
      "execution_count": null,
      "outputs": []
    },
    {
      "cell_type": "markdown",
      "metadata": {
        "id": "sGuuEEdYSPQN"
      },
      "source": [
        "### MATRIZ (todos elementos serão do mesmo tipo)\n",
        "\n"
      ]
    },
    {
      "cell_type": "code",
      "metadata": {
        "id": "xjKBnWWVSROK"
      },
      "source": [
        "mat = matrix(c(1,2),nrow=1,ncol=2,byrow = TRUE) \n",
        "mat"
      ],
      "execution_count": null,
      "outputs": []
    },
    {
      "cell_type": "markdown",
      "metadata": {
        "id": "KEKNHGVXSYfg"
      },
      "source": [
        "### DATAFRAME (estrutura para armazenar em forma de tabela)\n",
        "\n"
      ]
    },
    {
      "cell_type": "code",
      "metadata": {
        "id": "-X5SrXjqSXC1"
      },
      "source": [
        "x = data.frame(nome = c(\"Ana\",\"Weber\",\"Aquiles\"),\n",
        "               idade = c(24L,27L,2L),\n",
        "               salario = c(12000,0,0))\n",
        "nrow(x) # retorna número de linhas do dataframe\n",
        "ncol(x) # retorna número de colunas do dataframe\n",
        "dim(x) # retorna número de linhas e colunas\n",
        "print(x)"
      ],
      "execution_count": null,
      "outputs": []
    },
    {
      "cell_type": "markdown",
      "metadata": {
        "id": "4Y78WHwOSsyL"
      },
      "source": [
        "## Condicionais\n",
        "Quando você estiver “qodando”, é importante inserir algumas regras em seu código para que a máquina saiba O QUE fazer, QUANDO fazer e COMO fazer. Assim sendo, temos a figura das CONDICIONAIS, ferramentas essenciais, uma vez que queremos a ação executada apenas se certa condição for atendida. Um exemplo: você sai com guarda-chuva SE acredita que pode chover. Assim sendo você possui 1 condicional para levar o guarda chuva.\n",
        "\n",
        "### <b>Operadores lógicos</b>\n",
        "\n",
        ">OPERADOR | LÓGICA\n",
        ">--- | ---\n",
        ">< | Menor\n",
        ">> | Maior\n",
        "><= | Menor ou igual\n",
        ">>= | Maior ou igual\n",
        ">== | Igual\n",
        ">!= | Diferente\n",
        ">! | Not(negação)"
      ]
    },
    {
      "cell_type": "code",
      "metadata": {
        "id": "RUDyRg1MTdEY"
      },
      "source": [
        "3 > 0"
      ],
      "execution_count": null,
      "outputs": []
    },
    {
      "cell_type": "code",
      "metadata": {
        "id": "fOYl3Z8hTj7b"
      },
      "source": [
        "0 == 0"
      ],
      "execution_count": null,
      "outputs": []
    },
    {
      "cell_type": "code",
      "metadata": {
        "id": "1w0OsmZkTlpD"
      },
      "source": [
        "\"a\" == 1"
      ],
      "execution_count": null,
      "outputs": []
    },
    {
      "cell_type": "markdown",
      "metadata": {
        "id": "mHHDHk5QUKtV"
      },
      "source": [
        "### <b>if()</b>\n",
        "\n",
        "if (condicao) {\n",
        " \n",
        "    comandos executados quando TRUE\n",
        " \n",
        "}"
      ]
    },
    {
      "cell_type": "code",
      "metadata": {
        "id": "hg13van4UNr8"
      },
      "source": [
        "a = 1\n",
        "b = 100\n",
        "if (a<b) {\n",
        " \n",
        "    print(\"A é menor que B\")\n",
        " \n",
        "}"
      ],
      "execution_count": null,
      "outputs": []
    },
    {
      "cell_type": "markdown",
      "metadata": {
        "id": "GmbjPpSkUqsN"
      },
      "source": [
        "### <b>if else()</b>\n",
        "\n",
        "if (condicao) {\n",
        " \n",
        "  comandos executados quando TRUE\n",
        " \n",
        "} else {\n",
        " \n",
        "    comandos executados quando FALSE\n",
        " \n",
        "}\n"
      ]
    },
    {
      "cell_type": "code",
      "metadata": {
        "id": "s-hT4hC1U9aE"
      },
      "source": [
        "a = as.integer(readline(\"Digite um número para A: \"))\n",
        "b = as.integer(readline(\"Digite outro número, para B: \"))\n",
        "if (a<b) {\n",
        " \n",
        "    print(\"A é menor que B\")\n",
        " \n",
        "} else {\n",
        "  print(\"A é maior que B\")\n",
        "}"
      ],
      "execution_count": null,
      "outputs": []
    },
    {
      "cell_type": "markdown",
      "metadata": {
        "id": "P8hoTcruVzu2"
      },
      "source": [
        "### <b>ifelse()</b>\n",
        "\n",
        "ifelse(condição,\"retorno se TRUE\",\"retorno se FALSE\")\n"
      ]
    },
    {
      "cell_type": "code",
      "metadata": {
        "id": "p2emW6wNWAWs"
      },
      "source": [
        "a = as.integer(readline(\"Digite um número para A: \"))\n",
        "b = as.integer(readline(\"Digite outro número, para B: \"))\n",
        "\n",
        "ifelse(a>b,\"A maior que B\",\"A menor que B\")\n"
      ],
      "execution_count": null,
      "outputs": []
    },
    {
      "cell_type": "markdown",
      "metadata": {
        "id": "vYRvflWcWU8J"
      },
      "source": [
        "### Desafio condicionais em R\n",
        "Crie um chatbot simples que pergunte ao usuário sua idade. \n",
        "+ Caso sua idade esteja compreendida entre 18 anos ou menos, retorne: você é uma criança!\n",
        "+ Caso sua idade esteja compreendida entre 19  e 50 anos, retorne: você é um adulto!\n",
        "+ Caso sua idade esteja compreendida entre 51 anos ou mais, retorne: você é um adulto experiente!"
      ]
    },
    {
      "cell_type": "code",
      "metadata": {
        "id": "AiPoysrOs4Zf"
      },
      "source": [
        "#Digite seu código aqui \n",
        "idade = as.integer(readline(\"Qual a sua idade? \"))\n",
        "if (idade <= 18) {\n",
        "  print(\"Você é uma criança!\")\n",
        "}\n",
        "if (idade > 19 && idade <= 50){\n",
        "  print(\"Você é um adulto!\")\n",
        "}\n",
        "if (idade >= 51){\n",
        "  print(\"Você é um adulto experiente!\")\n",
        "}\n",
        "\n"
      ],
      "execution_count": null,
      "outputs": []
    },
    {
      "cell_type": "markdown",
      "metadata": {
        "id": "QWd8k05MlvsD"
      },
      "source": [
        "## Laços de repetição(loops)\n",
        "While e For"
      ]
    },
    {
      "cell_type": "code",
      "metadata": {
        "id": "wBDharQhlzwv"
      },
      "source": [
        "# WHILE SINTAXE\n",
        "while(condição) {\n",
        "  comandos\n",
        "}"
      ],
      "execution_count": null,
      "outputs": []
    },
    {
      "cell_type": "code",
      "metadata": {
        "id": "EsgWaaBjmAZQ"
      },
      "source": [
        "# WHILE NA PRÁTICA\n",
        "z <- 100\n",
        "while(z <= 200) {\n",
        "  print(z)\n",
        "  z <- z + 1\n",
        "}"
      ],
      "execution_count": null,
      "outputs": []
    },
    {
      "cell_type": "code",
      "metadata": {
        "id": "jlrPhBxol3LC"
      },
      "source": [
        "# FOR SINTAXE\n",
        "for (x in y) {\n",
        "  comandos\n",
        "}"
      ],
      "execution_count": null,
      "outputs": []
    },
    {
      "cell_type": "code",
      "metadata": {
        "id": "xW8JZO7qmYuA"
      },
      "source": [
        "# FOR NA PRÁTICA\n",
        "for (x in 1:100) {\n",
        "  print(x)\n",
        "}"
      ],
      "execution_count": null,
      "outputs": []
    },
    {
      "cell_type": "markdown",
      "metadata": {
        "id": "meSEkFs4W2vo"
      },
      "source": [
        "## Funções\n",
        "Funções nada mais são do que blocos de código “encapsulados” onde você armazena uma lista de instruções e posteriormente, utilizando o nome da função em seu código, você a chama para execução inserindo alguns parâmetros se necessário.\n",
        "\n",
        "Temos as funções “R base”, ou seja, aquelas que já são carregadas de forma nativa junto ao R como a função “mean()” que calcula a média, por exemplo, entre outras diversas:"
      ]
    },
    {
      "cell_type": "code",
      "metadata": {
        "id": "o724z4SXW_Tc"
      },
      "source": [
        "# FUNÇÕES R BASE\n",
        "x = c(1,2,3,4,5,6,7,8,9,10)\n"
      ],
      "execution_count": null,
      "outputs": []
    },
    {
      "cell_type": "code",
      "metadata": {
        "id": "T_CA2PtMXBoh"
      },
      "source": [
        "sd(x) #desvio padrão"
      ],
      "execution_count": null,
      "outputs": []
    },
    {
      "cell_type": "code",
      "metadata": {
        "id": "Cs5FGBPTXC2j"
      },
      "source": [
        "mean(x) #média\n"
      ],
      "execution_count": null,
      "outputs": []
    },
    {
      "cell_type": "code",
      "metadata": {
        "id": "QyDFG1xxXDy7"
      },
      "source": [
        "head(iris) #primeiras linhas dataframe"
      ],
      "execution_count": null,
      "outputs": []
    },
    {
      "cell_type": "code",
      "metadata": {
        "id": "z99wurxiXE0_"
      },
      "source": [
        "tail(iris) #ultimas linhas dataframe\n"
      ],
      "execution_count": null,
      "outputs": []
    },
    {
      "cell_type": "code",
      "metadata": {
        "id": "MOCtRTtlXFf-"
      },
      "source": [
        "file.choose() #abre pasta para caminho de arquivos, utilize no RSTUDIO!"
      ],
      "execution_count": null,
      "outputs": []
    },
    {
      "cell_type": "markdown",
      "metadata": {
        "id": "I_qWHlWtXSNo"
      },
      "source": [
        "### Criação de funções\n",
        "Podemos criar nossas próprias funções em R de forma simples e intuitiva."
      ]
    },
    {
      "cell_type": "code",
      "metadata": {
        "id": "P6CDjSKgXX2E"
      },
      "source": [
        "porcentagem <- function(num, por) {\n",
        "  num <- as.integer(readline(prompt=\"Digite o número para cálculo: \"))\n",
        "  por <- as.integer(readline(prompt=\"Agora digite a porcentagem que gostaria de descobrir deste número: \"))\n",
        "  return(num * por/100)\n",
        "}\n",
        "porcentagem()"
      ],
      "execution_count": null,
      "outputs": []
    },
    {
      "cell_type": "markdown",
      "metadata": {
        "id": "fnCHLQOAXbv8"
      },
      "source": [
        "##### Criamos uma função chamada “porcentagem”. Nela inserimos 2 parâmetros para funcionamento: “num”, que se refere ao número alvo, e “por”, referente a porcentagem a ser calculada. Desta forma utilizamos o “readline()” para pedir os números ao usuário e ao término lhe entregar o calculo de sua porcentagem. Por fim, apenas executamos a função e ela começa a interagir com o usuário."
      ]
    },
    {
      "cell_type": "markdown",
      "metadata": {
        "id": "0QJTCx7cXrc5"
      },
      "source": [
        "## Pacotes\n",
        "Pacotes nada mais são que códigos prontos de terceiros, criados para solucionar problemas específicos ao implementar novas funções ao seu código R. Temos pacotes para Machine Learning, Matemática, Web Scraping, Desenvolvimento Web e outros milhares e aqui está o grande trunfo do movimento Open-Source: produção de pacotes em massa.\n",
        "\n",
        "\n",
        "---\n",
        "\n",
        "\n",
        "<b>Onde encontrar pacotes? há 3 formas, via RStudio:</b>\n",
        "\n",
        "1. CRAN\n",
        "Via linha de comando no próprio console RStudio com:\n",
        "install.packages(“nome-do-pacote”,dependencies=TRUE)\n",
        "\n",
        "2. Manualmente, no CRAN formato .zip ou .tar.gz;\n",
        "no menu do Rstudio selecione Menu Tools > Install Packages > Install packages from pacage arquive file e selecione o pacote escolhido.\n",
        "\n",
        "3. No R Studio, na tela 4, em “Packages”: busque, selecione e clique em “install”."
      ]
    },
    {
      "cell_type": "code",
      "metadata": {
        "id": "Mii4_ZGaX7Hj"
      },
      "source": [
        "#Instala pacote\n",
        "install.packages(\"ggplot2\", dependencies=TRUE)\n",
        "\n",
        "# Carrega pacote para ser utilizado no código\n",
        "library(ggplot2)"
      ],
      "execution_count": null,
      "outputs": []
    },
    {
      "cell_type": "markdown",
      "metadata": {
        "id": "41xNxB-JYAnV"
      },
      "source": [
        "### Tidyverse\n",
        "Conjunto de pacotes focados em análise de dados"
      ]
    },
    {
      "cell_type": "code",
      "metadata": {
        "id": "K5j_D6dPYO9z"
      },
      "source": [
        "install.packages(\"tidyverse\") \n",
        "\n",
        "# instalará: \n",
        "#✔ ggplot2 (gráficos)\n",
        "#✔ purrr (programação funcional)\n",
        "#✔ tibble (criação dataframes)\n",
        "#✔ dplyr (manipulação de dataframes)\n",
        "#✔ tidyr (transformação de dataframes)\n",
        "#✔ stringr (lida com strings e regex)\n",
        "#✔ readr (leitura dados retangulares: csv, tsv...)  \n",
        "#✔ forcats (lida com fatores) fatores são estruturas de dados utilizadas para ordenar strings\n"
      ],
      "execution_count": null,
      "outputs": []
    },
    {
      "cell_type": "markdown",
      "metadata": {
        "id": "sgh3RFKPeBPn"
      },
      "source": [
        "### GGPLOT2\n",
        "https://github.com/rstudio/cheatsheets/blob/master/data-visualization-2.1.pdf\n",
        ">TIPO | OBJETO\n",
        ">--- | ---\n",
        ">Dispersão (scatterplot) | geom_point()\n",
        ">Gráfico de bolhas | geom_point()\n",
        ">Histograma | geom_histogram()\n",
        ">Boxplot | geom_boxplot()\n",
        ">Densidade | geom_density()\n",
        ">Gráfico de linhas | geom_line()\n",
        "\n",
        "\n",
        "\n",
        "\n",
        "\t\n",
        "\t\n",
        "\t\n",
        "\n",
        "\n",
        "\n"
      ]
    },
    {
      "cell_type": "code",
      "metadata": {
        "id": "vjWVhwnmMMTV"
      },
      "source": [
        "# Listando todos datasets do R base\n",
        "data(package = .packages(all.available = TRUE))\n",
        "# ou apenas data()"
      ],
      "execution_count": null,
      "outputs": []
    },
    {
      "cell_type": "code",
      "metadata": {
        "id": "w7OY5t7QLRLV"
      },
      "source": [
        "ggplot(data = <DATA>) + \n",
        "  <GEOM_FUNCTION>(\n",
        "     mapping = aes(<MAPPINGS>),\n",
        "     stat = <STAT>, \n",
        "     position = <POSITION>\n",
        "  ) +\n",
        "  <COORDINATE_FUNCTION> +\n",
        "  <FACET_FUNCTION> # dividir o gráfico em subplots"
      ],
      "execution_count": null,
      "outputs": []
    },
    {
      "cell_type": "code",
      "metadata": {
        "id": "kXpSA-t5eDNe"
      },
      "source": [
        "# SCATTERPLOT ou gráfico de dispersão\n",
        "library(tidyverse)\n",
        "#displ: o tamanho do motor de um carro, em litros.\n",
        "#hwy: a eficiência de combustível de um carro na estrada, em milhas por galão (mpg). \n",
        "ggplot(data = mpg) + geom_point(mapping = aes(x = displ, y = hwy))"
      ],
      "execution_count": null,
      "outputs": []
    },
    {
      "cell_type": "code",
      "metadata": {
        "id": "fZgbYd55qZnY"
      },
      "source": [
        "mpg"
      ],
      "execution_count": null,
      "outputs": []
    },
    {
      "cell_type": "code",
      "metadata": {
        "id": "BE-ag4UTq72G"
      },
      "source": [
        "# GRÁFICO DE BARRAS\n",
        "ggplot(diamonds, aes(x = cut)) +\n",
        "  geom_bar()"
      ],
      "execution_count": null,
      "outputs": []
    },
    {
      "cell_type": "markdown",
      "metadata": {
        "id": "c_Iqw2xReF1u"
      },
      "source": [
        "###TIBBLE\n",
        "Tibbles são como dataframes, entretanto, apresentam melhorias de produtividade."
      ]
    },
    {
      "cell_type": "markdown",
      "metadata": {
        "id": "F-1OcrdgeHyK"
      },
      "source": [
        "###DPLYR\n",
        "https://github.com/rstudio/cheatsheets/blob/master/data-transformation.pdf\n",
        "Pacote mais utilizado para transformação de dados.<br>\n",
        "Funções principais:\n",
        "> Função | Objetivo\n",
        ">--- | ---\n",
        ">filter() | filtra linhas\n",
        ">select() | seleciona colunas\n",
        ">mutate() | cria/modifica colunas\n",
        ">arrange() | ordena a base\n",
        ">summarise() | sumariza a base\n",
        "\n"
      ]
    },
    {
      "cell_type": "code",
      "metadata": {
        "id": "HWfGjXsB3i4X"
      },
      "source": [
        "library(dplyr)\n",
        "mtcars %>%\n",
        "  filter(mpg > 20)\n"
      ],
      "execution_count": null,
      "outputs": []
    },
    {
      "cell_type": "code",
      "metadata": {
        "id": "82zNnypweJNY"
      },
      "source": [
        " mtcars %>% \n",
        "  select(mpg)"
      ],
      "execution_count": null,
      "outputs": []
    },
    {
      "cell_type": "code",
      "metadata": {
        "id": "_wZkDSDtA8k2"
      },
      "source": [
        " mtcars %>% \n",
        "  mutate(\n",
        "    economy = ifelse(mpg>20,\"CARRO ECONÔMICO\",\"CARRO BEBERRÃO\")\n",
        "  ) %>%\n",
        "  select(mpg, economy)"
      ],
      "execution_count": null,
      "outputs": []
    },
    {
      "cell_type": "code",
      "metadata": {
        "id": "gQViv1R_B0yN"
      },
      "source": [
        " mtcars %>% \n",
        "  arrange(mpg) %>%\n",
        "  select(everything())"
      ],
      "execution_count": null,
      "outputs": []
    },
    {
      "cell_type": "code",
      "metadata": {
        "id": "Nim8RRqyCcNu"
      },
      "source": [
        " mtcars %>% \n",
        "  summarise(media_mpg = median(mpg, na.rm=TRUE))"
      ],
      "execution_count": null,
      "outputs": []
    },
    {
      "cell_type": "markdown",
      "metadata": {
        "id": "n8TIoPnPeJjE"
      },
      "source": [
        "###TIDYR\n",
        "funções principais: gather() e spread()"
      ]
    },
    {
      "cell_type": "code",
      "metadata": {
        "id": "d3jDNMy8eLOz"
      },
      "source": [
        "library(tibble)\n",
        "library(tidyr)\n",
        "\n",
        "df <- tibble(w = 1, x = 2, y = 3)\n",
        "z = gather(df, \"variavel\", \"valor\")"
      ],
      "execution_count": null,
      "outputs": []
    },
    {
      "cell_type": "code",
      "metadata": {
        "id": "AuY4YmkkxisY"
      },
      "source": [
        "df"
      ],
      "execution_count": null,
      "outputs": []
    },
    {
      "cell_type": "code",
      "metadata": {
        "id": "omCeK-W7x0rj"
      },
      "source": [
        "z"
      ],
      "execution_count": null,
      "outputs": []
    },
    {
      "cell_type": "code",
      "metadata": {
        "id": "oH6mRkmCyeXj"
      },
      "source": [
        "z2 = spread(z, \"variavel\",\"valor\")\n",
        "z2"
      ],
      "execution_count": null,
      "outputs": []
    },
    {
      "cell_type": "markdown",
      "metadata": {
        "id": "XetrEJJkeLjF"
      },
      "source": [
        "###STRINGR"
      ]
    },
    {
      "cell_type": "code",
      "metadata": {
        "id": "fmWxDdHYeOTi"
      },
      "source": [
        "library(stringr)\n",
        "texto = \"Este é um texto para simples conferência de caracteres.\"\n",
        "str_length(texto)"
      ],
      "execution_count": null,
      "outputs": []
    },
    {
      "cell_type": "code",
      "metadata": {
        "id": "peXJE4c6zjZ4"
      },
      "source": [
        "str_to_upper(texto)"
      ],
      "execution_count": null,
      "outputs": []
    },
    {
      "cell_type": "code",
      "metadata": {
        "id": "4tDrVpSLz0t9"
      },
      "source": [
        "s1 = \"Minha idade é\"\n",
        "s2 = \" \"\n",
        "s3 = \"59 anos.\"\n",
        "str_c(s1,s2,s3)"
      ],
      "execution_count": null,
      "outputs": []
    },
    {
      "cell_type": "markdown",
      "metadata": {
        "id": "8op-YAf1ePFM"
      },
      "source": [
        "###READR\n",
        "Realiza leitura de dados nos formatos .txt, .csv, .fwf e .log, 10x mais veloz que os comandos usuais. Não há necessidade de converter caracteres em fatores(stringAsFactors = FALSE)\n",
        "https://rawgit.com/rstudio/cheatsheets/master/data-import.pdf"
      ]
    },
    {
      "cell_type": "code",
      "metadata": {
        "id": "7o30OZ5zeQZv"
      },
      "source": [
        "library(readr)\n",
        "read_delim(), read_csv(), read_tsv(), read_csv2()\n",
        "read_fwf(), read_table()\n",
        "read_log()\n",
        "read_file() ## lê um arquivo em uma *string*."
      ],
      "execution_count": null,
      "outputs": []
    },
    {
      "cell_type": "markdown",
      "metadata": {
        "id": "ECt_u_unfQLR"
      },
      "source": [
        "## Pipe %>%\n",
        "\n",
        "\n",
        "---\n",
        "\n",
        "O operador %>% (pipe) veio para tornar a leitura de códigos mais legível/compreensível. Foi introduzido junto ao pacote magrittr e já existem outros pacotes criados para sua utilização\n",
        "\n",
        "De inicio, vamos instalar e carregar o magrittr:"
      ]
    },
    {
      "cell_type": "code",
      "metadata": {
        "id": "ohl7eiMPfe9O"
      },
      "source": [
        "install.packages(\"magrittr\")\n",
        "library(magrittr)"
      ],
      "execution_count": null,
      "outputs": []
    },
    {
      "cell_type": "code",
      "metadata": {
        "id": "lqZpWowAbG5q"
      },
      "source": [
        "funcao(a, b)  # sem pipe\n",
        "a %>% f(b) # operador pipe"
      ],
      "execution_count": null,
      "outputs": []
    },
    {
      "cell_type": "code",
      "metadata": {
        "id": "X2pCyWWdbRth"
      },
      "source": [
        "a <- c(1, 2, 3, 4)\n",
        "sqrt(sum(a))"
      ],
      "execution_count": null,
      "outputs": []
    },
    {
      "cell_type": "code",
      "metadata": {
        "id": "b278jJzXbXDh"
      },
      "source": [
        "a %>% sum() %>% sqrt()"
      ],
      "execution_count": null,
      "outputs": []
    }
  ]
}