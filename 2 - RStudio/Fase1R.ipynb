{
  "nbformat": 4,
  "nbformat_minor": 0,
  "metadata": {
    "colab": {
      "name": "Fase1R.ipynb",
      "provenance": []
    },
    "kernelspec": {
      "name": "ir",
      "display_name": "R"
    }
  },
  "cells": [
    {
      "cell_type": "markdown",
      "metadata": {
        "id": "Z2Kl9pfj0JKM"
      },
      "source": [
        "# Seja ensinável e execute as tarefas compartilhadas. Por fins didáticos e para melhor separação mental das sintaxes Python/R, realizaremos todos os exercícios de Python em R.\n",
        "![alt text](https://media.giphy.com/media/d3mlE7uhX8KFgEmY/200.gif)"
      ]
    },
    {
      "cell_type": "markdown",
      "metadata": {
        "id": "j9ZuOU7Kyh9O"
      },
      "source": [
        "Crie um algoritmo em R que mostre a mensagem \"Alo mundo\" na tela."
      ]
    },
    {
      "cell_type": "code",
      "metadata": {
        "id": "tlFupLd-ydTB",
        "outputId": "731a5a2b-c2fc-438f-866c-138d359f7b1b",
        "colab": {
          "base_uri": "https://localhost:8080/",
          "height": 33
        }
      },
      "source": [
        "# INSIRA SEU CÓDIGO AQUI\n",
        "print('Alo Mundo!')"
      ],
      "execution_count": 1,
      "outputs": [
        {
          "output_type": "stream",
          "text": [
            "[1] \"Alo Mundo!\"\n"
          ],
          "name": "stdout"
        }
      ]
    },
    {
      "cell_type": "markdown",
      "metadata": {
        "id": "yhw2owA-zbrn"
      },
      "source": [
        "Crie um algoritmo em R que peça dois números e imprima a soma."
      ]
    },
    {
      "cell_type": "code",
      "metadata": {
        "id": "RJJtXkvV0qzj",
        "outputId": "bc933725-f24f-4cdd-8984-22bf2ef27888",
        "colab": {
          "base_uri": "https://localhost:8080/",
          "height": 100
        }
      },
      "source": [
        "# INSIRA SEU CÓDIGO AQUI\n",
        "print(\"Me dê dois números e irei fazer a soma deles.\")\n",
        "num1 <- as.integer(readline(\"Número 1: \"))\n",
        "num2 <- as.integer(readline(\"Número 2: \"))\n",
        "soma = num1 + num2\n",
        "\n",
        "paste(\"Soma de\", num1,\"+\",num2,\"é igual a:\",soma,\".\" )"
      ],
      "execution_count": 9,
      "outputs": [
        {
          "output_type": "stream",
          "text": [
            "[1] \"Me dê dois números e irei fazer a soma deles.\"\n",
            "Número 1: 23\n",
            "Número 2: 4\n"
          ],
          "name": "stdout"
        },
        {
          "output_type": "display_data",
          "data": {
            "text/plain": [
              "[1] \"Soma de 23 + 4 é igual a: 27 .\""
            ],
            "text/latex": "'Soma de 23 + 4 é igual a: 27 .'",
            "text/markdown": "'Soma de 23 + 4 é igual a: 27 .'",
            "text/html": [
              "'Soma de 23 + 4 é igual a: 27 .'"
            ]
          },
          "metadata": {
            "tags": []
          }
        },
        {
          "output_type": "stream",
          "text": [
            "[1] 23\n"
          ],
          "name": "stdout"
        }
      ]
    },
    {
      "cell_type": "markdown",
      "metadata": {
        "id": "35RwPIIF0w3i"
      },
      "source": [
        "Crie um algoritmo em R que peça um número e então mostre a mensagem O número informado foi [número]."
      ]
    },
    {
      "cell_type": "code",
      "metadata": {
        "id": "NEFu-8L808HB",
        "outputId": "c3130e6f-105c-4579-c17d-274d7a3ded5e",
        "colab": {
          "base_uri": "https://localhost:8080/",
          "height": 50
        }
      },
      "source": [
        "# INSIRA SEU CÓDIGO AQUI\n",
        "num1 <- as.integer(readline(\"Por favor, insira um número: \"))\n",
        "paste(\"O número informado foi \", num1)"
      ],
      "execution_count": 10,
      "outputs": [
        {
          "output_type": "stream",
          "text": [
            "Por favor, insira um número: 5\n"
          ],
          "name": "stdout"
        },
        {
          "output_type": "display_data",
          "data": {
            "text/plain": [
              "[1] \"O número informado foi  5\""
            ],
            "text/latex": "'O número informado foi  5'",
            "text/markdown": "<span style=white-space:pre-wrap>'O número informado foi  5'</span>",
            "text/html": [
              "<span style=white-space:pre-wrap>'O número informado foi  5'</span>"
            ]
          },
          "metadata": {
            "tags": []
          }
        }
      ]
    },
    {
      "cell_type": "markdown",
      "metadata": {
        "id": "_OGQmoYA08bI"
      },
      "source": [
        "Crie um algoritmo em R que converta metros para centímetros."
      ]
    },
    {
      "cell_type": "code",
      "metadata": {
        "id": "xxgmQ5j21Abx",
        "outputId": "2877d281-c4a5-491e-f4fd-56a2eab3a466",
        "colab": {
          "base_uri": "https://localhost:8080/",
          "height": 67
        }
      },
      "source": [
        "# INSIRA SEU CÓDIGO AQUI\n",
        "print(\"Me dê um número em metros e eu irei convertê-lo para centímetros.\")\n",
        "num1 <- as.double(readline(\"Número: \"))\n",
        "calc <- num1 * 100\n",
        "\n",
        "paste(\"O valor\",num1,\" metros em centímetros é\",calc,\".\")"
      ],
      "execution_count": 17,
      "outputs": [
        {
          "output_type": "stream",
          "text": [
            "[1] \"Me dê um número em metros e eu irei convertê-lo para centímetros.\"\n",
            "Número: 100\n"
          ],
          "name": "stdout"
        },
        {
          "output_type": "display_data",
          "data": {
            "text/plain": [
              "[1] \"O valor 100  metros em centímetros é 10000 .\""
            ],
            "text/latex": "'O valor 100  metros em centímetros é 10000 .'",
            "text/markdown": "<span style=white-space:pre-wrap>'O valor 100  metros em centímetros é 10000 .'</span>",
            "text/html": [
              "<span style=white-space:pre-wrap>'O valor 100  metros em centímetros é 10000 .'</span>"
            ]
          },
          "metadata": {
            "tags": []
          }
        }
      ]
    },
    {
      "cell_type": "markdown",
      "metadata": {
        "id": "kP9TOwKo1AnS"
      },
      "source": [
        "Crie um algoritmo em Python que peça as 4 notas bimestrais e mostre a média."
      ]
    },
    {
      "cell_type": "code",
      "metadata": {
        "id": "Tj5xsjC-1D5I",
        "outputId": "d2cee365-24bb-483f-902b-a7ee551f03e9",
        "colab": {
          "base_uri": "https://localhost:8080/",
          "height": 117
        }
      },
      "source": [
        "# INSIRA SEU CÓDIGO AQUI\n",
        "print(\"Por favor, insira suas 4 notas bimestrais e irei calcular a sua média.\")\n",
        "lista <- vector()\n",
        "\n",
        "for (c in 1:4){\n",
        "  number = as.character(c)\n",
        "  num = as.integer(readline(paste(\"Número\", number ,\":\")))\n",
        "  lista[c] <- num\n",
        "}\n",
        "media = mean(lista)\n",
        "\n",
        "paste(\"Sua média é de:\", media)"
      ],
      "execution_count": 42,
      "outputs": [
        {
          "output_type": "stream",
          "text": [
            "[1] \"Por favor, insira suas 4 notas bimestrais e irei calcular a sua média.\"\n",
            "Número 1 :2\n",
            "Número 2 :3\n",
            "Número 3 :2\n",
            "Número 4 :4\n"
          ],
          "name": "stdout"
        },
        {
          "output_type": "display_data",
          "data": {
            "text/plain": [
              "[1] \"Sua média é de: 2.75\""
            ],
            "text/latex": "'Sua média é de: 2.75'",
            "text/markdown": "'Sua média é de: 2.75'",
            "text/html": [
              "'Sua média é de: 2.75'"
            ]
          },
          "metadata": {
            "tags": []
          }
        }
      ]
    },
    {
      "cell_type": "markdown",
      "metadata": {
        "id": "6vgD9pl81EGd"
      },
      "source": [
        "Crie um algoritmo em R que peça o raio de um círculo, calcule e mostre sua área."
      ]
    },
    {
      "cell_type": "code",
      "metadata": {
        "id": "3h1VOEuR1KGz",
        "outputId": "9f83c08d-2eef-47f9-dd55-8f7a47625d33",
        "colab": {
          "base_uri": "https://localhost:8080/",
          "height": 67
        }
      },
      "source": [
        "# INSIRA SEU CÓDIGO AQUI\n",
        "print(\"Me dê o raio de um círculo e eu irei calcular a área dele.\")\n",
        "raio = as.double(readline(\"Raio: \"))\n",
        "area = 3.14 * (raio ** 2)\n",
        "\n",
        "paste(\"A área de um círculo com raio de\",raio,\"é de:\",area,\"em metros.\")"
      ],
      "execution_count": 47,
      "outputs": [
        {
          "output_type": "stream",
          "text": [
            "[1] \"Me dê o raio de um círculo e eu irei calcular a área dele.\"\n",
            "Raio: 2\n"
          ],
          "name": "stdout"
        },
        {
          "output_type": "display_data",
          "data": {
            "text/plain": [
              "[1] \"A área de um círculo com raio de 2 é de: 12.56 em metros.\""
            ],
            "text/latex": "'A área de um círculo com raio de 2 é de: 12.56 em metros.'",
            "text/markdown": "'A área de um círculo com raio de 2 é de: 12.56 em metros.'",
            "text/html": [
              "'A área de um círculo com raio de 2 é de: 12.56 em metros.'"
            ]
          },
          "metadata": {
            "tags": []
          }
        }
      ]
    },
    {
      "cell_type": "markdown",
      "metadata": {
        "id": "QXhvPnMQ1Kd6"
      },
      "source": [
        "Crie um algoritmo em R que calcule a área de um quadrado, em seguida mostre o dobro desta área para o usuário."
      ]
    },
    {
      "cell_type": "code",
      "metadata": {
        "id": "ywZkuhmt1N7l",
        "outputId": "772e4bce-b945-48eb-bd27-5fa9a108276b",
        "colab": {
          "base_uri": "https://localhost:8080/",
          "height": 67
        }
      },
      "source": [
        "# INSIRA SEU CÓDIGO AQUI\n",
        "print(\"Me dê um lado de um quadrado e eu irei calcular a área dele.\")\n",
        "lado = as.integer(readline(\"Lado: \"))\n",
        "area = lado * lado\n",
        "\n",
        "paste(\"A área de um quadrado com o lado de\",lado,\"é de:\",area,\".\")"
      ],
      "execution_count": 48,
      "outputs": [
        {
          "output_type": "stream",
          "text": [
            "[1] \"Me dê um lado de um quadrado e eu irei calcular a área dele.\"\n",
            "Lado: 5\n"
          ],
          "name": "stdout"
        },
        {
          "output_type": "display_data",
          "data": {
            "text/plain": [
              "[1] \"A área de um quadrado com o lado de 5 é de: 25 .\""
            ],
            "text/latex": "'A área de um quadrado com o lado de 5 é de: 25 .'",
            "text/markdown": "'A área de um quadrado com o lado de 5 é de: 25 .'",
            "text/html": [
              "'A área de um quadrado com o lado de 5 é de: 25 .'"
            ]
          },
          "metadata": {
            "tags": []
          }
        }
      ]
    },
    {
      "cell_type": "markdown",
      "metadata": {
        "id": "F-rpjggB1T5G"
      },
      "source": [
        "Crie um algoritmo em R que pergunte quanto você ganha por hora e o número de horas trabalhadas no mês. Calcule e mostre o total do seu salário no referido mês.\n"
      ]
    },
    {
      "cell_type": "code",
      "metadata": {
        "id": "nvMchfOZ2_vC",
        "outputId": "8b66ed3f-5a55-4391-9a17-af05bfae288f",
        "colab": {
          "base_uri": "https://localhost:8080/",
          "height": 84
        }
      },
      "source": [
        "# INSIRA SEU CÓDIGO AQUI\n",
        "print(\"Me informe quanto você ganha por hora e quantas horas você trabalha ao mês e irei mostrar o total do seu salário por mês.\")\n",
        "ganha_hora = as.double(readline(\"Valor hora: \"))\n",
        "qtd_hora = as.integer(readline(\"Quantidade hora: \"))\n",
        "calc = ganha_hora*qtd_hora\n",
        "paste(\"Você ganha R$\",round(ganha_hora, digits = 2),\"por hora e trabalha\",qtd_hora,\"horas por mês, logo seu salário é de R$\",calc,\".\")"
      ],
      "execution_count": 58,
      "outputs": [
        {
          "output_type": "stream",
          "text": [
            "[1] \"Me informe quanto você ganha por hora e quantas horas você trabalha ao mês e irei mostrar o total do seu salário por mês.\"\n",
            "Valor hora: 30\n",
            "Quantidade hora: 160\n"
          ],
          "name": "stdout"
        },
        {
          "output_type": "display_data",
          "data": {
            "text/plain": [
              "[1] \"Você ganha R$ 30 por hora e trabalha 160 horas por mês, logo seu salário é de R$ 4800 .\""
            ],
            "text/latex": "'Você ganha R\\$ 30 por hora e trabalha 160 horas por mês, logo seu salário é de R\\$ 4800 .'",
            "text/markdown": "'Você ganha R$ 30 por hora e trabalha 160 horas por mês, logo seu salário é de R$ 4800 .'",
            "text/html": [
              "'Você ganha R$ 30 por hora e trabalha 160 horas por mês, logo seu salário é de R$ 4800 .'"
            ]
          },
          "metadata": {
            "tags": []
          }
        }
      ]
    },
    {
      "cell_type": "markdown",
      "metadata": {
        "id": "C-H4OWh03DFn"
      },
      "source": [
        "Crie um algoritmo em R que peça a temperatura em graus Farenheit, transforme e mostre a temperatura em graus Celsius.\n",
        "C = (5 * (F-32) / 9)."
      ]
    },
    {
      "cell_type": "code",
      "metadata": {
        "id": "vs5qFAKx3Eyi",
        "outputId": "0270c007-0ccb-4f87-bb7c-986ab444b6fa",
        "colab": {
          "base_uri": "https://localhost:8080/",
          "height": 50
        }
      },
      "source": [
        "# INSIRA SEU CÓDIGO AQUI\n",
        "temperatura = as.integer(readline(\"Graus em Farenheit: \"))\n",
        "calc = (5*(temperatura-32)/9)\n",
        "paste(\"A temperatura\",temperatura,\"°F em °C é \",round(calc,2))"
      ],
      "execution_count": 4,
      "outputs": [
        {
          "output_type": "stream",
          "text": [
            "Graus em Farenheit: 10\n"
          ],
          "name": "stdout"
        },
        {
          "output_type": "display_data",
          "data": {
            "text/plain": [
              "[1] \"A temperatura 10 Farenheit em Celcius é  -12.22\""
            ],
            "text/latex": "'A temperatura 10 Farenheit em Celcius é  -12.22'",
            "text/markdown": "<span style=white-space:pre-wrap>'A temperatura 10 Farenheit em Celcius é  -12.22'</span>",
            "text/html": [
              "<span style=white-space:pre-wrap>'A temperatura 10 Farenheit em Celcius é  -12.22'</span>"
            ]
          },
          "metadata": {
            "tags": []
          }
        }
      ]
    },
    {
      "cell_type": "markdown",
      "metadata": {
        "id": "PGccudSo3E54"
      },
      "source": [
        "Crie um algoritmo em R que peça a temperatura em graus Celsius, transforme e mostre em graus Farenheit."
      ]
    },
    {
      "cell_type": "code",
      "metadata": {
        "id": "_zfLyopV3IqV",
        "outputId": "ff26e436-f762-48b8-fe27-dd5db11eedb3",
        "colab": {
          "base_uri": "https://localhost:8080/",
          "height": 50
        }
      },
      "source": [
        "# INSIRA SEU CÓDIGO AQUI\n",
        "temperatura = as.integer(readline(\"Graus em Celcius: \"))\n",
        "calc = temperatura * 1.8 + 32\n",
        "paste(\"A temperatura\",temperatura,\"°C em °F é\",round(calc,2))\n",
        "\n",
        "\n",
        "\n",
        "\n"
      ],
      "execution_count": 9,
      "outputs": [
        {
          "output_type": "stream",
          "text": [
            "Graus em Celcius: 10\n"
          ],
          "name": "stdout"
        },
        {
          "output_type": "display_data",
          "data": {
            "text/plain": [
              "[1] \"A temperatura 10 °C em °F é 50\""
            ],
            "text/latex": "'A temperatura 10 °C em °F é 50'",
            "text/markdown": "'A temperatura 10 °C em °F é 50'",
            "text/html": [
              "'A temperatura 10 °C em °F é 50'"
            ]
          },
          "metadata": {
            "tags": []
          }
        }
      ]
    },
    {
      "cell_type": "markdown",
      "metadata": {
        "id": "bu3Zyati3Iwc"
      },
      "source": [
        "Crie um algoritmo em R que peça 2 números inteiros e um número real. Calcule e mostre:\n",
        "* a soma do dobro do primeiro com metade do segundo .\n",
        "* a soma do triplo do primeiro com o terceiro.\n",
        "* o terceiro elevado ao cubo."
      ]
    },
    {
      "cell_type": "code",
      "metadata": {
        "id": "Peo4D5Sz3PDC",
        "outputId": "1fbd948e-6a31-4151-ef50-885951bafad0",
        "colab": {
          "base_uri": "https://localhost:8080/",
          "height": 100
        }
      },
      "source": [
        "# INSIRA SEU CÓDIGO AQUI\n",
        "print(\"Me dê dois números inteiros e um número real.\")\n",
        "num1 = as.integer(readline(\"Número 1 inteiro: \"))\n",
        "num2 = as.integer(readline(\"Número 2 inteiro: \"))\n",
        "num3 = as.double(readline(\"Número 1 real: \"))\n",
        "\n",
        "calc1 = (num1 * 2) + (num2 / 2)\n",
        "calc2 = (num1 * 3) + num3\n",
        "calc3 = num3 ** 3\n",
        "\n",
        "paste(\"* a soma do dobro do primeiro com metade do segundo \",calc1,\"\n",
        "* a soma do triplo do primeiro com o terceiro.\",calc2,\"\n",
        "* o terceiro elevado ao cubo\",calc3,\"\")"
      ],
      "execution_count": 8,
      "outputs": [
        {
          "output_type": "stream",
          "text": [
            "[1] \"Me dê dois números inteiros e um número real.\"\n",
            "Número 1 inteiro: 20\n",
            "Número 2 inteiro: 3\n",
            "Número 1 real: 1.5\n"
          ],
          "name": "stdout"
        },
        {
          "output_type": "display_data",
          "data": {
            "text/plain": [
              "[1] \"* a soma do dobro do primeiro com metade do segundo  41.5 \\n* a soma do triplo do primeiro com o terceiro. 61.5 \\n* o terceiro elevado ao cubo 3.375 \""
            ],
            "text/latex": "'* a soma do dobro do primeiro com metade do segundo  41.5 \\textbackslash{}n* a soma do triplo do primeiro com o terceiro. 61.5 \\textbackslash{}n* o terceiro elevado ao cubo 3.375 '",
            "text/markdown": "<span style=white-space:pre-wrap>'* a soma do dobro do primeiro com metade do segundo  41.5 \\n* a soma do triplo do primeiro com o terceiro. 61.5 \\n* o terceiro elevado ao cubo 3.375 '</span>",
            "text/html": [
              "<span style=white-space:pre-wrap>'* a soma do dobro do primeiro com metade do segundo  41.5 \\n* a soma do triplo do primeiro com o terceiro. 61.5 \\n* o terceiro elevado ao cubo 3.375 '</span>"
            ]
          },
          "metadata": {
            "tags": []
          }
        }
      ]
    }
  ]
}