{
  "nbformat": 4,
  "nbformat_minor": 0,
  "metadata": {
    "colab": {
      "name": "Projeto_VIDA_dQoyaXU.ipynb",
      "private_outputs": true,
      "provenance": [],
      "collapsed_sections": [
        "nVYKPP55Z-UE",
        "KjXjUCHOYdIq",
        "5_spAQ2NdfZJ",
        "HJgnaFIzdyeK",
        "MkaFaA3Id86I",
        "crAmu9GPeD4e",
        "oikBqrJfeIt-",
        "vluoLPV5lSXc",
        "zyxpz4N_B9cR",
        "Dcd8mzPWeg24",
        "0GTRjaMMel58",
        "o2108eTXCBdR",
        "2BBJNHwsetmY",
        "HwReC9llfFuh",
        "K9Ax0-0DfO7w",
        "0eIotzDAfUNX",
        "NgN3UWMlfYNu",
        "_tn4fi4CffbS",
        "NYijqRe4fkH-"
      ]
    },
    "kernelspec": {
      "name": "python3",
      "display_name": "Python 3"
    },
    "accelerator": "GPU"
  },
  "cells": [
    {
      "cell_type": "markdown",
      "metadata": {
        "id": "LvKcqCB6XcHL"
      },
      "source": [
        "# PROJETO VIDA\n",
        "\n",
        "---\n",
        "https://www.kaggle.com/kumarajarshi/life-expectancy-who<br>\n",
        "Expectativa de vida global\n",
        "\n",
        "Lembre-se: foco na técnica e não no dataset em sí, uma vez que não sabemos como os dados foram coletados. Dataset por WHO https://www.who.int/social_determinants/themes/measurementandevidence/en/"
      ]
    },
    {
      "cell_type": "markdown",
      "metadata": {
        "id": "mWI9FciyBZkM"
      },
      "source": [
        "# Aquisição dos Dados"
      ]
    },
    {
      "cell_type": "code",
      "metadata": {
        "id": "wAdCtoOkXPnr"
      },
      "source": [
        "import pandas as pd\n",
        "import os\n",
        "import numpy as np\n",
        "import matplotlib.pyplot as plt\n",
        "import seaborn as sns\n",
        "%matplotlib inline\n",
        "from sklearn.preprocessing import LabelEncoder, OneHotEncoder"
      ],
      "execution_count": null,
      "outputs": []
    },
    {
      "cell_type": "code",
      "metadata": {
        "id": "mfsqtFpJXg0-"
      },
      "source": [
        "df = pd.read_csv('https://raw.githubusercontent.com/qodatecnologia/projeto-vida/master/data.csv')"
      ],
      "execution_count": null,
      "outputs": []
    },
    {
      "cell_type": "code",
      "metadata": {
        "id": "J7EU0TjFXnNd"
      },
      "source": [
        "df"
      ],
      "execution_count": null,
      "outputs": []
    },
    {
      "cell_type": "code",
      "metadata": {
        "id": "IBRd4844XuHd"
      },
      "source": [
        "df.shape"
      ],
      "execution_count": null,
      "outputs": []
    },
    {
      "cell_type": "code",
      "metadata": {
        "id": "E70-rjD0XuaX"
      },
      "source": [
        "df.columns"
      ],
      "execution_count": null,
      "outputs": []
    },
    {
      "cell_type": "code",
      "metadata": {
        "id": "Ug8mnAYqXwlh"
      },
      "source": [
        "df.info()"
      ],
      "execution_count": null,
      "outputs": []
    },
    {
      "cell_type": "code",
      "metadata": {
        "id": "6viF-qfYXyOE"
      },
      "source": [
        "df.describe()"
      ],
      "execution_count": null,
      "outputs": []
    },
    {
      "cell_type": "code",
      "metadata": {
        "id": "NrG1I7cOXz8j"
      },
      "source": [
        "df.describe(include = ['object'])"
      ],
      "execution_count": null,
      "outputs": []
    },
    {
      "cell_type": "code",
      "metadata": {
        "id": "F7mLf8e_61r0"
      },
      "source": [
        "df.describe(include = ['float'])"
      ],
      "execution_count": null,
      "outputs": []
    },
    {
      "cell_type": "markdown",
      "metadata": {
        "id": "N_IejZuABfJL"
      },
      "source": [
        "# Pré-processamento dos dados(explorar,limpar,preparar)"
      ]
    },
    {
      "cell_type": "markdown",
      "metadata": {
        "id": "nVYKPP55Z-UE"
      },
      "source": [
        "## Dados duplicados\n",
        "\n",
        "---\n",
        "\n"
      ]
    },
    {
      "cell_type": "code",
      "metadata": {
        "id": "rhImyizvX1SY"
      },
      "source": [
        "df.duplicated().sum()"
      ],
      "execution_count": null,
      "outputs": []
    },
    {
      "cell_type": "code",
      "metadata": {
        "id": "mApXD5vaX4HZ"
      },
      "source": [
        "# Poderiamos removar as duplicatas com drop_duplicates\n",
        "df.drop_duplicates(inplace=True)"
      ],
      "execution_count": null,
      "outputs": []
    },
    {
      "cell_type": "markdown",
      "metadata": {
        "id": "KjXjUCHOYdIq"
      },
      "source": [
        "## Dados faltantes e preenchimento dos mesmos com mediana\n",
        "\n",
        "---\n",
        "\n"
      ]
    },
    {
      "cell_type": "code",
      "metadata": {
        "id": "kxl9yx7HX5pX"
      },
      "source": [
        "df.isna().sum()"
      ],
      "execution_count": null,
      "outputs": []
    },
    {
      "cell_type": "code",
      "metadata": {
        "id": "UUvkyxeiX7aI"
      },
      "source": [
        "df.columns=['Country','Year','Status','Life_Expectancy','Adult_Mortality','Infant_death','Alcohol','Percentage_Expenditure','Hepatitis_B','Measles','BMI','Under_Five_Death','Polio','Total_Expenditure','Diphtheria','Hiv_Aids','GDP','Population','Thin_1_19_Years','Thin_5_9_Year','Income_Comp_Resource','Schooling']"
      ],
      "execution_count": null,
      "outputs": []
    },
    {
      "cell_type": "code",
      "metadata": {
        "id": "bA0M2kFNX755"
      },
      "source": [
        "df.info()"
      ],
      "execution_count": null,
      "outputs": []
    },
    {
      "cell_type": "code",
      "metadata": {
        "id": "k70yGUyLX-5N"
      },
      "source": [
        "df[['Infant_death']].isna().sum()"
      ],
      "execution_count": null,
      "outputs": []
    },
    {
      "cell_type": "code",
      "metadata": {
        "id": "Mpvj25tRYBJa"
      },
      "source": [
        "df.Life_Expectancy=df.Life_Expectancy.fillna(df.Life_Expectancy.median())\n",
        "df.Life_Expectancy.isna().sum()"
      ],
      "execution_count": null,
      "outputs": []
    },
    {
      "cell_type": "code",
      "metadata": {
        "id": "6FhlsTisY82d"
      },
      "source": [
        "df.info()"
      ],
      "execution_count": null,
      "outputs": []
    },
    {
      "cell_type": "code",
      "metadata": {
        "id": "hJ8vptWeYC9R"
      },
      "source": [
        "df.isna().sum()"
      ],
      "execution_count": null,
      "outputs": []
    },
    {
      "cell_type": "code",
      "metadata": {
        "id": "KG6O-3c-YEoo"
      },
      "source": [
        "df.Adult_Mortality=df.Adult_Mortality.fillna(df.Adult_Mortality.median())\n",
        "df.Adult_Mortality.isna().sum()"
      ],
      "execution_count": null,
      "outputs": []
    },
    {
      "cell_type": "code",
      "metadata": {
        "id": "HCIvc0P2YJ9N"
      },
      "source": [
        "df.Alcohol=df.Alcohol.fillna(df.Alcohol.median())\n",
        "df.Alcohol.isna().sum()"
      ],
      "execution_count": null,
      "outputs": []
    },
    {
      "cell_type": "code",
      "metadata": {
        "id": "mqPHFssTYMns"
      },
      "source": [
        "df.Hepatitis_B=df.Hepatitis_B.fillna(df.Hepatitis_B.median())\n",
        "df.Hepatitis_B.isna().sum()"
      ],
      "execution_count": null,
      "outputs": []
    },
    {
      "cell_type": "code",
      "metadata": {
        "id": "wnVM4hqNYQWk"
      },
      "source": [
        "df.BMI=df.BMI.fillna(df.BMI.median())\n",
        "df.BMI.isna().sum()"
      ],
      "execution_count": null,
      "outputs": []
    },
    {
      "cell_type": "code",
      "metadata": {
        "id": "KIW4wMpQYTUx"
      },
      "source": [
        "df.Polio=df.Polio.fillna(df.Polio.median())\n",
        "df.Polio.isna().sum()"
      ],
      "execution_count": null,
      "outputs": []
    },
    {
      "cell_type": "code",
      "metadata": {
        "id": "oG90IxuIYU5s"
      },
      "source": [
        "df.Total_Expenditure = df.Total_Expenditure.fillna(df.Total_Expenditure.median())\n",
        "df.Total_Expenditure.isna().sum()"
      ],
      "execution_count": null,
      "outputs": []
    },
    {
      "cell_type": "code",
      "metadata": {
        "id": "hPrXCKFsaL4a"
      },
      "source": [
        "df.isna().sum()"
      ],
      "execution_count": null,
      "outputs": []
    },
    {
      "cell_type": "code",
      "metadata": {
        "id": "a9YRJOueaZHV"
      },
      "source": [
        "df.Diphtheria=df.Diphtheria.fillna(df.Diphtheria.median())\n",
        "df.Diphtheria.isna().sum()"
      ],
      "execution_count": null,
      "outputs": []
    },
    {
      "cell_type": "code",
      "metadata": {
        "id": "lG3reaywaa3D"
      },
      "source": [
        "df.GDP=df.GDP.fillna(df.GDP.median())\n",
        "df.GDP.isna().sum()"
      ],
      "execution_count": null,
      "outputs": []
    },
    {
      "cell_type": "code",
      "metadata": {
        "id": "vwVzER7yadTh"
      },
      "source": [
        "df.Population=df.Population.fillna(df.Population.median())\n",
        "df.Population.isna().sum()"
      ],
      "execution_count": null,
      "outputs": []
    },
    {
      "cell_type": "code",
      "metadata": {
        "id": "KNW5N4dqahtr"
      },
      "source": [
        "df.Thin_1_19_Years=df.Thin_1_19_Years.fillna(df.Thin_1_19_Years.median())\n",
        "df.Thin_1_19_Years.isna().sum()"
      ],
      "execution_count": null,
      "outputs": []
    },
    {
      "cell_type": "code",
      "metadata": {
        "id": "y0LirlfhakN5"
      },
      "source": [
        "df.Thin_5_9_Year =df.Thin_5_9_Year.fillna(df.Thin_5_9_Year.median())\n",
        "df.Thin_5_9_Year.isna().sum()"
      ],
      "execution_count": null,
      "outputs": []
    },
    {
      "cell_type": "code",
      "metadata": {
        "id": "JGbokMcHanQ7"
      },
      "source": [
        "df.Income_Comp_Resource=df.Income_Comp_Resource.fillna(df.Income_Comp_Resource.median())\n",
        "df.Income_Comp_Resource.isna().sum()"
      ],
      "execution_count": null,
      "outputs": []
    },
    {
      "cell_type": "code",
      "metadata": {
        "id": "Eb1n7FsMapiU"
      },
      "source": [
        "df.Schooling=df.Schooling.fillna(df.Schooling.median())\n",
        "df.Schooling.isna().sum()"
      ],
      "execution_count": null,
      "outputs": []
    },
    {
      "cell_type": "code",
      "metadata": {
        "id": "JXCca99Saq1S"
      },
      "source": [
        "df.info()"
      ],
      "execution_count": null,
      "outputs": []
    },
    {
      "cell_type": "code",
      "metadata": {
        "id": "L-KObn_QmGLo"
      },
      "source": [
        "df.isna().sum()"
      ],
      "execution_count": null,
      "outputs": []
    },
    {
      "cell_type": "markdown",
      "metadata": {
        "id": "wYakcMjsayXL"
      },
      "source": [
        "## Outliers"
      ]
    },
    {
      "cell_type": "code",
      "metadata": {
        "id": "oMw9OGVqasZz"
      },
      "source": [
        "# AMPLITUDE INTERQUARTIL PARA DETECTAR OUTLIERS\n",
        "def find_outliers_tukey(x):\n",
        "    q1 = x.quantile(.25)\n",
        "    q3 = x.quantile(.75)\n",
        "    iqr = q3 - q1 #INTER QUARTILE RANGE\n",
        "    floor = q1 - 1.5*iqr\n",
        "    ceiling = q3 + 1.5*iqr\n",
        "    outlier_indices = list(x.index[(x < floor) | (x > ceiling)])\n",
        "    outlier_values = list(x[outlier_indices])\n",
        "    return outlier_indices, outlier_values"
      ],
      "execution_count": null,
      "outputs": []
    },
    {
      "cell_type": "code",
      "metadata": {
        "id": "9w5A5u4Oa0h-"
      },
      "source": [
        "df.columns"
      ],
      "execution_count": null,
      "outputs": []
    },
    {
      "cell_type": "code",
      "metadata": {
        "id": "asnvJyXJa2YQ"
      },
      "source": [
        "print(\"Outliers for Year\")\n",
        "Year_indices, Year_values = find_outliers_tukey(df['Year'])\n",
        "print(np.sort(Year_values))"
      ],
      "execution_count": null,
      "outputs": []
    },
    {
      "cell_type": "code",
      "metadata": {
        "id": "6GwGn6dMkzX1"
      },
      "source": [
        "\n",
        "print(\"Infant_death\")\n",
        "Year_indices, Year_values = find_outliers_tukey(df['Infant_death'])\n",
        "print(np.sort(Year_values))"
      ],
      "execution_count": null,
      "outputs": []
    },
    {
      "cell_type": "code",
      "metadata": {
        "id": "9AnTeSz7a409"
      },
      "source": [
        "print(\"Outliers for Life Expectancy\")\n",
        "Life_Expectancy_indices,Life_Expectancy_values = find_outliers_tukey(df['Life_Expectancy'])\n",
        "print(np.sort(Life_Expectancy_values))"
      ],
      "execution_count": null,
      "outputs": []
    },
    {
      "cell_type": "code",
      "metadata": {
        "id": "WtiR4NdNa8EI"
      },
      "source": [
        "print(\"Outliers for Infant death\")\n",
        "Infant_death_indices,Infant_death_values = find_outliers_tukey(df['Infant_death'])\n",
        "print(np.sort(Infant_death_values))"
      ],
      "execution_count": null,
      "outputs": []
    },
    {
      "cell_type": "code",
      "metadata": {
        "id": "sI2FCwSua_uz"
      },
      "source": [
        "# Substituindo outlier por mediana\n",
        "df['Infant_death'] = np.where(df['Infant_death'] >3, 3,df['Infant_death'])"
      ],
      "execution_count": null,
      "outputs": []
    },
    {
      "cell_type": "code",
      "metadata": {
        "id": "0JmN6IUBbI_S"
      },
      "source": [
        "df.Infant_death.median()"
      ],
      "execution_count": null,
      "outputs": []
    },
    {
      "cell_type": "code",
      "metadata": {
        "id": "-Lun77BLbMw2"
      },
      "source": [
        "df.describe()"
      ],
      "execution_count": null,
      "outputs": []
    },
    {
      "cell_type": "code",
      "metadata": {
        "id": "LZHkRPhQbQXx"
      },
      "source": [
        "print(\"Outliers for Alcohol\")\n",
        "Alcohol_indices, Alcohol_values = find_outliers_tukey(df['Alcohol'])\n",
        "print(np.sort(Alcohol_values))"
      ],
      "execution_count": null,
      "outputs": []
    },
    {
      "cell_type": "code",
      "metadata": {
        "id": "HC6M02cdbSLU"
      },
      "source": [
        "print(\"Outliers for Percentage Expenditure\")\n",
        "Percentage_Expenditure_indices, Percentage_Expenditure_values = find_outliers_tukey(df['Percentage_Expenditure'])\n",
        "print(np.sort(Percentage_Expenditure_values))"
      ],
      "execution_count": null,
      "outputs": []
    },
    {
      "cell_type": "code",
      "metadata": {
        "id": "ZCCR1709bVcv"
      },
      "source": [
        "##Replacing the outlier with Median for Percentage Expenditure\n",
        "df[\"Percentage_Expenditure\"] = np.where(df[\"Percentage_Expenditure\"] >100,64.8845366125,df['Percentage_Expenditure'])"
      ],
      "execution_count": null,
      "outputs": []
    },
    {
      "cell_type": "code",
      "metadata": {
        "id": "7z7s1Bm8bW2s"
      },
      "source": [
        "df.Percentage_Expenditure.median()"
      ],
      "execution_count": null,
      "outputs": []
    },
    {
      "cell_type": "code",
      "metadata": {
        "id": "TEaYknJebYt_"
      },
      "source": [
        "df.describe()"
      ],
      "execution_count": null,
      "outputs": []
    },
    {
      "cell_type": "code",
      "metadata": {
        "id": "EFuLM7W4baI1"
      },
      "source": [
        "print(\"Outliers for Hepatitis B\")\n",
        "Hepatitis_B_indices, Hepatitis_B_values = find_outliers_tukey(df['Hepatitis_B'])\n",
        "print(np.sort(Hepatitis_B_values))"
      ],
      "execution_count": null,
      "outputs": []
    },
    {
      "cell_type": "code",
      "metadata": {
        "id": "hL1eqEg1bdtk"
      },
      "source": [
        "print(\"Outliers for Measles\")\n",
        "Measles_indices, Measles_values = find_outliers_tukey(df['Measles'])\n",
        "print(np.sort(Measles_values))"
      ],
      "execution_count": null,
      "outputs": []
    },
    {
      "cell_type": "code",
      "metadata": {
        "id": "OkQZgMA7beNP"
      },
      "source": [
        "##Replacing the outlier with Median for Percentage Expenditure\n",
        "df[\"Measles\"] = np.where(df[\"Measles\"] >50,17,df['Measles'])"
      ],
      "execution_count": null,
      "outputs": []
    },
    {
      "cell_type": "code",
      "metadata": {
        "id": "a0WrJUiBbhV9"
      },
      "source": [
        "df.Measles.median()"
      ],
      "execution_count": null,
      "outputs": []
    },
    {
      "cell_type": "code",
      "metadata": {
        "id": "qL1vZIZLbiuf"
      },
      "source": [
        "df.describe()"
      ],
      "execution_count": null,
      "outputs": []
    },
    {
      "cell_type": "code",
      "metadata": {
        "id": "7bslszrDbkbw"
      },
      "source": [
        "print(\"Outliers for BMI\")\n",
        "BMI_indices, BMI_values = find_outliers_tukey(df['BMI'])\n",
        "print(np.sort(BMI_values))"
      ],
      "execution_count": null,
      "outputs": []
    },
    {
      "cell_type": "code",
      "metadata": {
        "id": "AQ9uJ2OJbm-h"
      },
      "source": [
        "print(\"Outliers for Under Five Death\")\n",
        "Under_Five_Death_indices, Under_Five_Death_values = find_outliers_tukey(df['Under_Five_Death'])\n",
        "print(np.sort(Under_Five_Death_values))"
      ],
      "execution_count": null,
      "outputs": []
    },
    {
      "cell_type": "markdown",
      "metadata": {
        "id": "WkNNvYc77fup"
      },
      "source": [
        "## Substituindo outlier com a mediana de \"Under_Five_Death\""
      ]
    },
    {
      "cell_type": "code",
      "metadata": {
        "id": "IefKnjEhbp_I"
      },
      "source": [
        "df.Under_Five_Death.median()"
      ],
      "execution_count": null,
      "outputs": []
    },
    {
      "cell_type": "code",
      "metadata": {
        "id": "veVzxO-Tbst-"
      },
      "source": [
        "df[\"Under_Five_Death\"] = np.where(df[\"Measles\"] >4,4,df['Under_Five_Death'])"
      ],
      "execution_count": null,
      "outputs": []
    },
    {
      "cell_type": "code",
      "metadata": {
        "id": "TR7wICxqbvL0"
      },
      "source": [
        "df.describe()"
      ],
      "execution_count": null,
      "outputs": []
    },
    {
      "cell_type": "code",
      "metadata": {
        "id": "HVWY_pFobwtx"
      },
      "source": [
        "print(\"Outliers Polio\")\n",
        "Polio_indices, Polio_values = find_outliers_tukey(df['Polio'])\n",
        "print(np.sort(Polio_values))"
      ],
      "execution_count": null,
      "outputs": []
    },
    {
      "cell_type": "code",
      "metadata": {
        "id": "evtH6wk1byeI"
      },
      "source": [
        "print(\"Outliers Total Expenditure\")\n",
        "Total_Expenditure_indices, Total_Expenditure_values = find_outliers_tukey(df['Total_Expenditure'])\n",
        "print(np.sort(Total_Expenditure_values))"
      ],
      "execution_count": null,
      "outputs": []
    },
    {
      "cell_type": "code",
      "metadata": {
        "id": "zL70SJTab0FR"
      },
      "source": [
        "print(\"Outliers Diphtheria\")\n",
        "Diphtheria_indices, Diphtheria_values = find_outliers_tukey(df['Diphtheria'])\n",
        "print(np.sort(Diphtheria_values))"
      ],
      "execution_count": null,
      "outputs": []
    },
    {
      "cell_type": "code",
      "metadata": {
        "id": "CdUJGXnFb1uu"
      },
      "source": [
        "print(\"Outliers Hiv_Aids\")\n",
        "Hiv_Aids_indices, Hiv_Aids_values = find_outliers_tukey(df['Hiv_Aids'])\n",
        "print(np.sort(Hiv_Aids_values))"
      ],
      "execution_count": null,
      "outputs": []
    },
    {
      "cell_type": "code",
      "metadata": {
        "id": "ImVzh0i8b3xa"
      },
      "source": [
        "print(\"Outliers GDP\")\n",
        "GDP_indices, GDP_values = find_outliers_tukey(df['GDP'])\n",
        "print(np.sort(GDP_values))"
      ],
      "execution_count": null,
      "outputs": []
    },
    {
      "cell_type": "markdown",
      "metadata": {
        "id": "cHx8vg-17zin"
      },
      "source": [
        "## Substituindo outlier com mediana de \"GDP\""
      ]
    },
    {
      "cell_type": "code",
      "metadata": {
        "id": "kx6scE03b52D"
      },
      "source": [
        "df.GDP.median()\n",
        "df[\"GDP\"] = np.where(df[\"GDP\"] >2500,1766.947595,df['GDP'])"
      ],
      "execution_count": null,
      "outputs": []
    },
    {
      "cell_type": "code",
      "metadata": {
        "id": "JgDqP5SecAKu"
      },
      "source": [
        "df.describe()"
      ],
      "execution_count": null,
      "outputs": []
    },
    {
      "cell_type": "code",
      "metadata": {
        "id": "B0VYS0VqcCDZ"
      },
      "source": [
        "print(\"Outliers Population\")\n",
        "Population_indices, Population_values = find_outliers_tukey(df['Population'])\n",
        "print(np.sort(Population_values))"
      ],
      "execution_count": null,
      "outputs": []
    },
    {
      "cell_type": "code",
      "metadata": {
        "id": "zhI8uestcEfI"
      },
      "source": [
        "print(\"Outliers Thin_1_19_Years\")\n",
        "Thin_1_19_Years_indices, Thin_1_19_Years_values = find_outliers_tukey(df['Thin_1_19_Years'])\n",
        "print(np.sort(Thin_1_19_Years_values))"
      ],
      "execution_count": null,
      "outputs": []
    },
    {
      "cell_type": "code",
      "metadata": {
        "id": "ZvSj1vAFcGIm"
      },
      "source": [
        "print(\"Outliers Thin_5_9_Year\")\n",
        "Thin_5_9_Year_indices, Thin_5_9_Year_values = find_outliers_tukey(df['Thin_5_9_Year'])\n",
        "print(np.sort(Thin_5_9_Year_values))"
      ],
      "execution_count": null,
      "outputs": []
    },
    {
      "cell_type": "code",
      "metadata": {
        "id": "6i5rD6VvcICY"
      },
      "source": [
        "print(\"Outliers Income Comp Resource\")\n",
        "Income_Comp_Resource_indices, Income_Comp_Resource_values = find_outliers_tukey(df['Income_Comp_Resource'])\n",
        "print(np.sort(Income_Comp_Resource_values))"
      ],
      "execution_count": null,
      "outputs": []
    },
    {
      "cell_type": "code",
      "metadata": {
        "id": "Ood4APb-cJrw"
      },
      "source": [
        "print(\"Outliers Schooling\")\n",
        "Schooling_indices, Schooling_values = find_outliers_tukey(df['Schooling'])\n",
        "print(np.sort(Schooling_values))"
      ],
      "execution_count": null,
      "outputs": []
    },
    {
      "cell_type": "code",
      "metadata": {
        "id": "QccoVNs3cLkK"
      },
      "source": [
        "df.columns"
      ],
      "execution_count": null,
      "outputs": []
    },
    {
      "cell_type": "code",
      "metadata": {
        "id": "zz6bnmv7t5d6"
      },
      "source": [
        "#Transformar todos esses \r\n",
        "'', '',\r\n",
        "       '', '', '', 'Thin_1_19_Years',\r\n",
        "       'Thin_5_9_Year', 'Income_Comp_Resource', 'Schooling'"
      ],
      "execution_count": null,
      "outputs": []
    },
    {
      "cell_type": "code",
      "metadata": {
        "id": "Mv3YU8NedY22"
      },
      "source": [
        "# UTILIZE AMPLITUDE INTERQUARTIL E ACABE COM TODOS OUTLIERS DESTE DATASET\n",
        "# dica:\n",
        "q1 = df['GDP'].quantile(.25)\n",
        "q3 = df['GDP'].quantile(.75)\n",
        "iqr = q3 - q1 #INTER QUARTILE RANGE\n",
        "floor = q1 - 1.5*iqr # se menor, OUTLIER\n",
        "ceiling = q3 + 1.5*iqr # se maior, OUTLIER\n",
        "\n",
        "print(\"> que\",iqr)\n",
        "print(\"colocar\",ceiling)\n",
        "print(floor)"
      ],
      "execution_count": null,
      "outputs": []
    },
    {
      "cell_type": "code",
      "metadata": {
        "id": "TKEQWlRGsgaY"
      },
      "source": [
        "df.GDP.median()\r\n",
        "df[\"GDP\"] = np.where(df[\"GDP\"] >1186,1766.947595,df['GDP'])"
      ],
      "execution_count": null,
      "outputs": []
    },
    {
      "cell_type": "code",
      "metadata": {
        "id": "lhlvcCCzqjhR"
      },
      "source": [
        "df.GDP.median()"
      ],
      "execution_count": null,
      "outputs": []
    },
    {
      "cell_type": "code",
      "metadata": {
        "id": "ynk8jXdQq9HJ"
      },
      "source": [
        "print(\"Outliers Population\")\n",
        "Population_indices, Population_values = find_outliers_tukey(df['GDP'])\n",
        "print(np.sort(Population_values))"
      ],
      "execution_count": null,
      "outputs": []
    },
    {
      "cell_type": "code",
      "metadata": {
        "id": "V-bPLt7vtQKs"
      },
      "source": [
        "df.GDP.median()\r\n",
        "df.describe()"
      ],
      "execution_count": null,
      "outputs": []
    },
    {
      "cell_type": "code",
      "metadata": {
        "id": "9DnOtw2Sqir_"
      },
      "source": [
        ""
      ],
      "execution_count": null,
      "outputs": []
    },
    {
      "cell_type": "code",
      "metadata": {
        "id": "ar1FZva9qhm_"
      },
      "source": [
        ""
      ],
      "execution_count": null,
      "outputs": []
    },
    {
      "cell_type": "code",
      "metadata": {
        "id": "z5eimiaDTSWb"
      },
      "source": [
        "# UTILIZE AMPLITUDE INTERQUARTIL E ACABE COM TODOS OUTLIERS DESTE DATASET\n",
        "# dica:\n",
        "q1 = df['Polio'].quantile(.25)\n",
        "q3 = df['Polio'].quantile(.75)\n",
        "iqr = q3 - q1 #INTER QUARTILE RANGE\n",
        "floor = q1 - 1.5*iqr # se menor, OUTLIER\n",
        "ceiling = q3 + 1.5*iqr # se maior, OUTLIER\n",
        "print(floor)\n",
        "print(iqr)\n",
        "print(ceiling)\n",
        "\n"
      ],
      "execution_count": null,
      "outputs": []
    },
    {
      "cell_type": "code",
      "metadata": {
        "id": "L7IqzlJBTSWf"
      },
      "source": [
        "df.GDP.median()\r\n",
        "df[\"Polio\"] = np.where(df[\"Polio\"] < 87 ,93,df['Polio'])"
      ],
      "execution_count": null,
      "outputs": []
    },
    {
      "cell_type": "code",
      "metadata": {
        "id": "7nmbCOQ6ukIZ"
      },
      "source": [
        "df.Polio.median()"
      ],
      "execution_count": null,
      "outputs": []
    },
    {
      "cell_type": "code",
      "metadata": {
        "id": "3Af7-VZOTSWf"
      },
      "source": [
        "print(\"Outliers Population\")\r\n",
        "Population_indices, Population_values = find_outliers_tukey(df['Polio'])\r\n",
        "print(np.sort(Population_values))"
      ],
      "execution_count": null,
      "outputs": []
    },
    {
      "cell_type": "code",
      "metadata": {
        "id": "xKJtrHRTTSoc"
      },
      "source": [
        "# UTILIZE AMPLITUDE INTERQUARTIL E ACABE COM TODOS OUTLIERS DESTE DATASET\n",
        "# dica:\n",
        "q1 = df['Total_Expenditure'].quantile(.25)\n",
        "q3 = df['Total_Expenditure'].quantile(.75)\n",
        "iqr = q3 - q1 #INTER QUARTILE RANGE\n",
        "floor = q1 - 1.5*iqr # se menor, OUTLIER\n",
        "ceiling = q3 + 1.5*iqr # se maior, OUTLIER\n",
        "print(floor)\n",
        "print(iqr)\n",
        "print(ceiling)"
      ],
      "execution_count": null,
      "outputs": []
    },
    {
      "cell_type": "code",
      "metadata": {
        "id": "eFwJ19aUTSoe"
      },
      "source": [
        "median = df.Total_Expenditure.median()\r\n",
        "print(median)\r\n",
        "print(\"Outliers Population\")\r\n",
        "Population_indices, Population_values = find_outliers_tukey(df['Total_Expenditure'])\r\n",
        "print(np.sort(Population_values))"
      ],
      "execution_count": null,
      "outputs": []
    },
    {
      "cell_type": "code",
      "metadata": {
        "id": "RELnYecRTSod"
      },
      "source": [
        "df.GDP.median()\r\n",
        "df[\"Total_Expenditure\"] = np.where(df[\"Total_Expenditure\"] < 17.7 , median ,df['Total_Expenditure'])"
      ],
      "execution_count": null,
      "outputs": []
    },
    {
      "cell_type": "code",
      "metadata": {
        "id": "QkAY7Wg5TSyd"
      },
      "source": [
        "# UTILIZE AMPLITUDE INTERQUARTIL E ACABE COM TODOS OUTLIERS DESTE DATASET\n",
        "# dica:\n",
        "q1 = df['Diphtheria'].quantile(.25)\n",
        "q3 = df['Diphtheria'].quantile(.75)\n",
        "iqr = q3 - q1 #INTER QUARTILE RANGE\n",
        "floor = q1 - 1.5*iqr # se menor, OUTLIER\n",
        "ceiling = q3 + 1.5*iqr # se maior, OUTLIER\n",
        "\n",
        "print(floor)\n",
        "print(iqr)\n",
        "print(ceiling)"
      ],
      "execution_count": null,
      "outputs": []
    },
    {
      "cell_type": "code",
      "metadata": {
        "id": "UkeuTPXvTSye"
      },
      "source": [
        "df[\"Diphtheria\"] = np.where(df[\"Diphtheria\"] < floor , mediana ,df['Diphtheria'])"
      ],
      "execution_count": null,
      "outputs": []
    },
    {
      "cell_type": "code",
      "metadata": {
        "id": "4WOcEZ-mTSye"
      },
      "source": [
        "mediana = df.Diphtheria.median()\r\n",
        "print(\"Outliers Population\")\r\n",
        "Population_indices, Population_values = find_outliers_tukey(df['Diphtheria'])\r\n",
        "print(np.sort(Population_values))"
      ],
      "execution_count": null,
      "outputs": []
    },
    {
      "cell_type": "code",
      "metadata": {
        "id": "nF7nR-syTS6S"
      },
      "source": [
        "# UTILIZE AMPLITUDE INTERQUARTIL E ACABE COM TODOS OUTLIERS DESTE DATASET\n",
        "# dica:\n",
        "q1 = df.quantile(.25)\n",
        "q3 = df.quantile(.75)\n",
        "iqr = q3 - q1 #INTER QUARTILE RANGE\n",
        "floor = q1 - 1.5*iqr # se menor, OUTLIER\n",
        "ceiling = q3 + 1.5*iqr # se maior, OUTLIER\n",
        "print(iqr)\n",
        "print(ceiling)\n",
        "print(floor)"
      ],
      "execution_count": null,
      "outputs": []
    },
    {
      "cell_type": "code",
      "metadata": {
        "id": "gusgDgASyjNo"
      },
      "source": [
        "\n",
        "df[\"Total_Expenditure\"] = np.where(df[\"Total_Expenditure\"] > - 0.06 ,5.755,df['Total_Expenditure'])"
      ],
      "execution_count": null,
      "outputs": []
    },
    {
      "cell_type": "code",
      "metadata": {
        "id": "hzXOakxbTS6S"
      },
      "source": [
        "df.median()\r\n",
        "df = np.where(df > 1,ceiling,df)"
      ],
      "execution_count": null,
      "outputs": []
    },
    {
      "cell_type": "code",
      "metadata": {
        "id": "ke21usDsJGVw"
      },
      "source": [
        "ceiling"
      ],
      "execution_count": null,
      "outputs": []
    },
    {
      "cell_type": "code",
      "metadata": {
        "id": "DU8rgpjCTS6T"
      },
      "source": [
        "df.median()\r\n",
        "df.describe()"
      ],
      "execution_count": null,
      "outputs": []
    },
    {
      "cell_type": "code",
      "metadata": {
        "id": "EX-q2t1ATTHc"
      },
      "source": [
        "df.Percentage_Expenditure.median()\r\n",
        "df.describe()"
      ],
      "execution_count": null,
      "outputs": []
    },
    {
      "cell_type": "markdown",
      "metadata": {
        "id": "7hYNhquz8Ati"
      },
      "source": [
        "## Dataviz"
      ]
    },
    {
      "cell_type": "code",
      "metadata": {
        "id": "up4RFPvXdUvb"
      },
      "source": [
        "plt.figure(figsize=(20,15))\n",
        "sns.heatmap(df.corr(),annot=True,linewidths=7)"
      ],
      "execution_count": null,
      "outputs": []
    },
    {
      "cell_type": "markdown",
      "metadata": {
        "id": "5_spAQ2NdfZJ"
      },
      "source": [
        "## One hot Encoder para \"Country\"(str) ?!"
      ]
    },
    {
      "cell_type": "code",
      "metadata": {
        "id": "F6VDHE96ddrm"
      },
      "source": [
        "pd.get_dummies(df.Country,prefix = \"Country\")"
      ],
      "execution_count": null,
      "outputs": []
    },
    {
      "cell_type": "code",
      "metadata": {
        "id": "JgLhTc_MdnvW"
      },
      "source": [
        "Country_dummies = pd.get_dummies(df.Country,prefix = \"Country\").iloc[:,0:]"
      ],
      "execution_count": null,
      "outputs": []
    },
    {
      "cell_type": "code",
      "metadata": {
        "id": "h5xZYLDadqU2"
      },
      "source": [
        "df = pd.concat([df,Country_dummies],axis = 1)\n",
        "df.head()"
      ],
      "execution_count": null,
      "outputs": []
    },
    {
      "cell_type": "code",
      "metadata": {
        "id": "IU9aFDoLdsCW"
      },
      "source": [
        "df=df.drop('Country',axis=1)\n",
        "df.head()"
      ],
      "execution_count": null,
      "outputs": []
    },
    {
      "cell_type": "markdown",
      "metadata": {
        "id": "HJgnaFIzdyeK"
      },
      "source": [
        "## Lidando com a coluna \"Status\"(String) : One Hot encoder\n"
      ]
    },
    {
      "cell_type": "code",
      "metadata": {
        "id": "oqO3uP4ody32"
      },
      "source": [
        "pd.get_dummies(df.Status,prefix = \"Status\")"
      ],
      "execution_count": null,
      "outputs": []
    },
    {
      "cell_type": "code",
      "metadata": {
        "id": "Pe4e0ETid2RC"
      },
      "source": [
        "Status_dummies = pd.get_dummies(df.Status,prefix = \"Status\").iloc[:,0:]"
      ],
      "execution_count": null,
      "outputs": []
    },
    {
      "cell_type": "code",
      "metadata": {
        "id": "YBpn0tIvd4NX"
      },
      "source": [
        "df = pd.concat([df,Status_dummies],axis = 1)\n",
        "df.head()"
      ],
      "execution_count": null,
      "outputs": []
    },
    {
      "cell_type": "code",
      "metadata": {
        "id": "1s2eHX4Rd5nV"
      },
      "source": [
        "df=df.drop('Status',axis=1)\n",
        "df.head()"
      ],
      "execution_count": null,
      "outputs": []
    },
    {
      "cell_type": "markdown",
      "metadata": {
        "id": "MkaFaA3Id86I"
      },
      "source": [
        "##Feature Selection\n",
        "\n",
        "---\n",
        "\n",
        "\n",
        "Make a list of data frame column names"
      ]
    },
    {
      "cell_type": "code",
      "metadata": {
        "id": "2r4jyOd2d_-p"
      },
      "source": [
        "l_column = list(df.columns) # Making a list out of column names\n",
        "len_feature = len(l_column) # Length of column vector list\n",
        "print(l_column)\n",
        "print(len_feature)"
      ],
      "execution_count": null,
      "outputs": []
    },
    {
      "cell_type": "markdown",
      "metadata": {
        "id": "crAmu9GPeD4e"
      },
      "source": [
        "## Features numericas em X e \"Life Expectancy\" em y"
      ]
    },
    {
      "cell_type": "code",
      "metadata": {
        "id": "T2qBn85Wi9Te"
      },
      "source": [
        "\"\"\"\n",
        "colunas do df: 22\n",
        "colunas removidas(status&Country): 2 \n",
        "total: 20 colunas\n",
        "\"\"\"\n",
        "df.info()"
      ],
      "execution_count": null,
      "outputs": []
    },
    {
      "cell_type": "code",
      "metadata": {
        "id": "xf2vargYeEbp"
      },
      "source": [
        "X = df[l_column[0:len_feature-195]] \n",
        "X.columns"
      ],
      "execution_count": null,
      "outputs": []
    },
    {
      "cell_type": "markdown",
      "metadata": {
        "id": "oikBqrJfeIt-"
      },
      "source": [
        "## Dropar a coluna target\n"
      ]
    },
    {
      "cell_type": "code",
      "metadata": {
        "id": "JZCyn_OoeJCb"
      },
      "source": [
        "X=X.drop('Life_Expectancy',axis=1)\n",
        "X.columns"
      ],
      "execution_count": null,
      "outputs": []
    },
    {
      "cell_type": "code",
      "metadata": {
        "id": "gm2mnD8XeKX2"
      },
      "source": [
        "X=X.drop('Year',axis=1)\n",
        "X.columns"
      ],
      "execution_count": null,
      "outputs": []
    },
    {
      "cell_type": "code",
      "metadata": {
        "id": "wKYvnCd5eMdP"
      },
      "source": [
        "y = df[l_column[len_feature-214]]"
      ],
      "execution_count": null,
      "outputs": []
    },
    {
      "cell_type": "code",
      "metadata": {
        "id": "ijaFNcGJeMwi"
      },
      "source": [
        "X.shape"
      ],
      "execution_count": null,
      "outputs": []
    },
    {
      "cell_type": "code",
      "metadata": {
        "id": "t5oebMGBeN9K"
      },
      "source": [
        "X.head()"
      ],
      "execution_count": null,
      "outputs": []
    },
    {
      "cell_type": "markdown",
      "metadata": {
        "id": "vluoLPV5lSXc"
      },
      "source": [
        "## Remover features que não geram valor\n"
      ]
    },
    {
      "cell_type": "code",
      "metadata": {
        "id": "cAVA_kX5ePaq"
      },
      "source": [
        "X=X.drop('Hepatitis_B',axis=1)\n",
        "X=X.drop('Percentage_Expenditure',axis=1)\n",
        "X=X.drop('Measles',axis=1)\n",
        "X=X.drop('Under_Five_Death',axis=1)\n",
        "X=X.drop('Total_Expenditure',axis=1)\n",
        "X=X.drop('Population',axis=1)"
      ],
      "execution_count": null,
      "outputs": []
    },
    {
      "cell_type": "code",
      "metadata": {
        "id": "D8GuWwtSeVQl"
      },
      "source": [
        "X.columns"
      ],
      "execution_count": null,
      "outputs": []
    },
    {
      "cell_type": "code",
      "metadata": {
        "id": "pO_7YcA8eXrQ"
      },
      "source": [
        "X.shape"
      ],
      "execution_count": null,
      "outputs": []
    },
    {
      "cell_type": "code",
      "metadata": {
        "id": "OpT89ImgeY-m"
      },
      "source": [
        "y.shape"
      ],
      "execution_count": null,
      "outputs": []
    },
    {
      "cell_type": "code",
      "metadata": {
        "id": "8HtulO12eayh"
      },
      "source": [
        "y.head()"
      ],
      "execution_count": null,
      "outputs": []
    },
    {
      "cell_type": "markdown",
      "metadata": {
        "id": "zyxpz4N_B9cR"
      },
      "source": [
        "# Modelo Preditivo"
      ]
    },
    {
      "cell_type": "markdown",
      "metadata": {
        "id": "Dcd8mzPWeg24"
      },
      "source": [
        "## Criação de X e y, treino/teste\n"
      ]
    },
    {
      "cell_type": "code",
      "metadata": {
        "id": "i4D5fp13eh90"
      },
      "source": [
        "from sklearn.model_selection import train_test_split\n",
        "X_train, X_test, y_train, y_test = train_test_split(X, y, test_size=0.3, random_state=123)"
      ],
      "execution_count": null,
      "outputs": []
    },
    {
      "cell_type": "code",
      "metadata": {
        "id": "NsaDYRsRejZS"
      },
      "source": [
        "print(\"Features Treino:\",X_train.shape)\n",
        "print(\"Features Teste:\",X_test.shape)\n",
        "print()\n",
        "print(\"Target Treino:\",y_train.shape)\n",
        "print(\"Target Teste:\",y_test.shape)"
      ],
      "execution_count": null,
      "outputs": []
    },
    {
      "cell_type": "markdown",
      "metadata": {
        "id": "0GTRjaMMel58"
      },
      "source": [
        "### Treinar modelo preditivo\n"
      ]
    },
    {
      "cell_type": "code",
      "metadata": {
        "id": "m0hnW5vTemQY"
      },
      "source": [
        "from sklearn.linear_model import LinearRegression\n",
        "from sklearn import metrics"
      ],
      "execution_count": null,
      "outputs": []
    },
    {
      "cell_type": "code",
      "metadata": {
        "id": "vhf8ccDxeonv"
      },
      "source": [
        "lm = LinearRegression() # Creating a Linear Regression object 'lm'"
      ],
      "execution_count": null,
      "outputs": []
    },
    {
      "cell_type": "code",
      "metadata": {
        "id": "TBeHSn_EerOQ"
      },
      "source": [
        "lm.fit(X_train,y_train)# Fit the linear model on to the 'lm' object itself i.e. no need to set this to another variable"
      ],
      "execution_count": null,
      "outputs": []
    },
    {
      "cell_type": "markdown",
      "metadata": {
        "id": "o2108eTXCBdR"
      },
      "source": [
        "# Avaliação do modelo e métricas\n",
        "https://scikit-learn.org/stable/modules/model_evaluation.html"
      ]
    },
    {
      "cell_type": "markdown",
      "metadata": {
        "id": "2BBJNHwsetmY"
      },
      "source": [
        "## Intercepto/coeficiente linear em um DataFrame\n"
      ]
    },
    {
      "cell_type": "code",
      "metadata": {
        "id": "4ATC3UK4et7o"
      },
      "source": [
        "print(\"Intercepto:\", lm.intercept_)"
      ],
      "execution_count": null,
      "outputs": []
    },
    {
      "cell_type": "code",
      "metadata": {
        "id": "NP_1M5_kewF4"
      },
      "source": [
        "print(\"Coeficiente Linear:\", lm.coef_)"
      ],
      "execution_count": null,
      "outputs": []
    },
    {
      "cell_type": "code",
      "metadata": {
        "id": "Czm2nKC2fARj"
      },
      "source": [
        "train_pred = lm.predict(X_train)"
      ],
      "execution_count": null,
      "outputs": []
    },
    {
      "cell_type": "code",
      "metadata": {
        "id": "CzE3vb45DWhm"
      },
      "source": [
        "predictions = lm.predict(X_test)"
      ],
      "execution_count": null,
      "outputs": []
    },
    {
      "cell_type": "markdown",
      "metadata": {
        "id": "QQ5Qsn4m0nre"
      },
      "source": [
        "* MAE: Média da diferença absoluta entre previsto/realizado\n",
        "* MSE: Média dos quadrados dos erros\n",
        "* RMSE: Desvio padrão da diferença entre previsto/realizado"
      ]
    },
    {
      "cell_type": "code",
      "metadata": {
        "id": "Jl83tAiLfAzl"
      },
      "source": [
        "# MSE\n",
        "metrics.mean_squared_error(y_train,train_pred)"
      ],
      "execution_count": null,
      "outputs": []
    },
    {
      "cell_type": "code",
      "metadata": {
        "id": "22JD6pxsfDIF"
      },
      "source": [
        "# MAE\n",
        "metrics.mean_absolute_error(y_train,train_pred)"
      ],
      "execution_count": null,
      "outputs": []
    },
    {
      "cell_type": "markdown",
      "metadata": {
        "id": "HwReC9llfFuh"
      },
      "source": [
        "## R² do modelo\n",
        "O R-quadrado é uma medida estatística de quão próximos os dados estão da linha de regressão ajustada. O R-quadrado está sempre entre 0 e 100%:\n",
        "\n",
        "* 0% indica que o modelo não explica nada da variabilidade dos dados de resposta ao redor de sua média.\n",
        "* 100% indica que o modelo explica toda a variabilidade dos dados de resposta ao redor de sua média.\n",
        "\n",
        "Em geral, quanto maior o R-quadrado, melhor o modelo se ajusta aos seus dados."
      ]
    },
    {
      "cell_type": "code",
      "metadata": {
        "id": "kttbDfd3fIJD"
      },
      "source": [
        "print(f\"R-quadrado: {round(metrics.r2_score(y_train,train_pred),2)}\")"
      ],
      "execution_count": null,
      "outputs": []
    },
    {
      "cell_type": "markdown",
      "metadata": {
        "id": "K9Ax0-0DfO7w"
      },
      "source": [
        "## Scatter plot das predições/valores reais: devemos encontrar uma linha reta\n"
      ]
    },
    {
      "cell_type": "code",
      "metadata": {
        "id": "zI7uqaeNfQVP"
      },
      "source": [
        "plt.figure(figsize=(10,7))\n",
        "plt.title(\"Actual vs. predicted \",fontsize=25)\n",
        "plt.xlabel(\"Actual test \",fontsize=18)\n",
        "plt.ylabel(\"Predicted \", fontsize=18)\n",
        "plt.scatter(x=y_test,y = predictions )"
      ],
      "execution_count": null,
      "outputs": []
    },
    {
      "cell_type": "code",
      "metadata": {
        "id": "b48ak5_vCumw"
      },
      "source": [
        ""
      ],
      "execution_count": null,
      "outputs": []
    },
    {
      "cell_type": "markdown",
      "metadata": {
        "id": "0eIotzDAfUNX"
      },
      "source": [
        "## Métricas de avaliação para regressão(treino)\n",
        "* MAE: Média da diferença absoluta entre previsto/realizado\n",
        "* MSE: Média dos quadrados dos erros\n",
        "* RMSE: Desvio padrão da diferença entre previsto/realizado\n"
      ]
    },
    {
      "cell_type": "code",
      "metadata": {
        "id": "RyouLHd3fWL3"
      },
      "source": [
        "print(f\"Mean absolute error (MAE): {metrics.mean_absolute_error(y_train,train_pred)}\")\n",
        "print(f\"Mean square error (MSE): {metrics.mean_squared_error(y_train,train_pred)}\")\n",
        "print(f\"Root mean square error (RMSE): {np.sqrt(metrics.mean_squared_error(y_train,train_pred))}\")"
      ],
      "execution_count": null,
      "outputs": []
    },
    {
      "cell_type": "markdown",
      "metadata": {
        "id": "NgN3UWMlfYNu"
      },
      "source": [
        "## Métricas de avaliação para regressão(teste)\n",
        "* MAE: Média da diferença absoluta entre previsto/realizado\n",
        "* MSE: Média dos quadrados dos erros\n",
        "* RMSE: Desvio padrão da diferença entre previsto/realizado"
      ]
    },
    {
      "cell_type": "code",
      "metadata": {
        "id": "fn157TfjfYj9"
      },
      "source": [
        "print(f\"Mean absolute error (MAE): {metrics.mean_absolute_error(y_test,predictions)}\")\n",
        "print(f\"Mean square error (MSE): {metrics.mean_squared_error(y_test,predictions)}\")\n",
        "print(f\"Root mean square error (RMSE): {np.sqrt(metrics.mean_squared_error(y_test,predictions))}\")"
      ],
      "execution_count": null,
      "outputs": []
    },
    {
      "cell_type": "markdown",
      "metadata": {
        "id": "_tn4fi4CffbS"
      },
      "source": [
        "## Mean Absolute Percentage error(y_train)\n",
        "O MAPE (Erro Absoluto Médio Percentual) mede o erro em porcentagem. Este é calculado como a média do erro percentual\n"
      ]
    },
    {
      "cell_type": "code",
      "metadata": {
        "id": "6ctB5urVff1H"
      },
      "source": [
        "def mean_absolute_percentage_error(y_train, train_pred):\n",
        "    y_train,train_pred=np.array(y_train),np.array(train_pred)\n",
        "    return np.mean(np.abs((y_train - train_pred)/y_train))*100\n",
        "\n",
        "print(f\"Mean absolute percentage error (MAPE): {mean_absolute_percentage_error(y_train,train_pred)}\")"
      ],
      "execution_count": null,
      "outputs": []
    },
    {
      "cell_type": "markdown",
      "metadata": {
        "id": "NYijqRe4fkH-"
      },
      "source": [
        "## Mean Absolute Percentage error(y_test)\n",
        "O MAPE (Erro Absoluto Médio Percentual) mede o erro em porcentagem. Este é calculado como a média do erro percentual\n"
      ]
    },
    {
      "cell_type": "code",
      "metadata": {
        "id": "rWiYwhQzfkf6"
      },
      "source": [
        "def mean_absolute_percentage_error(y_test, predictions):\n",
        "    y_test,predictions=np.array(y_test),np.array(predictions)\n",
        "    return np.mean(np.abs((y_test - predictions)/y_test))*100\n",
        "\n",
        "print(f\"Mean absolute percentage error (MAPE): {mean_absolute_percentage_error(y_test,predictions)}\")"
      ],
      "execution_count": null,
      "outputs": []
    },
    {
      "cell_type": "markdown",
      "metadata": {
        "id": "XB3YmV62IN1q"
      },
      "source": [
        "#Métricas modelo"
      ]
    },
    {
      "cell_type": "code",
      "metadata": {
        "id": "jA6u2YBZIQM0"
      },
      "source": [
        "from sklearn.metrics import recall_score\n",
        "\n",
        "recall_score(y_test, predictions, average='macro')"
      ],
      "execution_count": null,
      "outputs": []
    },
    {
      "cell_type": "code",
      "metadata": {
        "id": "DyRwBEHHJRU4"
      },
      "source": [
        "predictions.shape"
      ],
      "execution_count": null,
      "outputs": []
    },
    {
      "cell_type": "code",
      "metadata": {
        "id": "1YgbpAjXJazI"
      },
      "source": [
        ""
      ],
      "execution_count": null,
      "outputs": []
    }
  ]
}